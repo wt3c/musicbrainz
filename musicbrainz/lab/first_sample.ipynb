{
 "cells": [
  {
   "cell_type": "markdown",
   "metadata": {},
   "source": [
    "### Primeiros testes com o grafos"
   ]
  },
  {
   "cell_type": "code",
   "execution_count": 1,
   "metadata": {},
   "outputs": [],
   "source": [
    "import os, sys\n",
    "import json\n",
    "import random\n",
    "from termcolor import cprint\n",
    "import networkx as nx"
   ]
  },
  {
   "cell_type": "code",
   "execution_count": 2,
   "metadata": {
    "scrolled": true
   },
   "outputs": [],
   "source": [
    "files = os.listdir('files')\n",
    "colors = ['red', 'green', 'cyan', 'magenta', 'blue']\n",
    "works = []"
   ]
  },
  {
   "cell_type": "code",
   "execution_count": 3,
   "metadata": {},
   "outputs": [
    {
     "name": "stdout",
     "output_type": "stream",
     "text": [
      "<_io.TextIOWrapper name='files/d8b62b31-22f7-4b63-af52-c5aea6715265.json' mode='r' encoding='UTF-8'>\n",
      "(<class 'json.decoder.JSONDecodeError'>, JSONDecodeError('Expecting value: line 1 column 1 (char 0)'), <traceback object at 0x7f4cf5487608>)\n",
      "<_io.TextIOWrapper name='files/82095e26-0e4d-4334-ae72-d75a68b525da.json' mode='r' encoding='UTF-8'>\n",
      "(<class 'json.decoder.JSONDecodeError'>, JSONDecodeError('Expecting value: line 1 column 1 (char 0)'), <traceback object at 0x7f4cf5487ac8>)\n",
      "<_io.TextIOWrapper name='files/b88424d9-8787-4833-9d33-2f4b0dbcf8e7.json' mode='r' encoding='UTF-8'>\n",
      "(<class 'json.decoder.JSONDecodeError'>, JSONDecodeError('Expecting value: line 1 column 1 (char 0)'), <traceback object at 0x7f4cf5487b08>)\n",
      "<_io.TextIOWrapper name='files/a729f265-1c07-4094-ae89-cb17f8111359.json' mode='r' encoding='UTF-8'>\n",
      "(<class 'json.decoder.JSONDecodeError'>, JSONDecodeError('Expecting value: line 1 column 1 (char 0)'), <traceback object at 0x7f4cf5487508>)\n",
      "<_io.TextIOWrapper name='files/5ba8a183-cf2b-4b46-adfc-a28e93e86033.json' mode='r' encoding='UTF-8'>\n",
      "(<class 'json.decoder.JSONDecodeError'>, JSONDecodeError('Expecting value: line 1 column 1 (char 0)'), <traceback object at 0x7f4cf5487ac8>)\n",
      "<_io.TextIOWrapper name='files/1db092db-c894-4c5e-a43e-6962340ae050.json' mode='r' encoding='UTF-8'>\n",
      "(<class 'json.decoder.JSONDecodeError'>, JSONDecodeError('Expecting value: line 1 column 1 (char 0)'), <traceback object at 0x7f4cf5487508>)\n",
      "<_io.TextIOWrapper name='files/fae74592-3f05-4851-b909-f2a9b7c47064.json' mode='r' encoding='UTF-8'>\n",
      "(<class 'json.decoder.JSONDecodeError'>, JSONDecodeError('Expecting value: line 1 column 1 (char 0)'), <traceback object at 0x7f4cf5487ac8>)\n",
      "<_io.TextIOWrapper name='files/1ce66959-bf16-4b20-bc05-a60b78ffa46d.json' mode='r' encoding='UTF-8'>\n",
      "(<class 'json.decoder.JSONDecodeError'>, JSONDecodeError('Expecting value: line 1 column 1 (char 0)'), <traceback object at 0x7f4cf54874c8>)\n",
      "<_io.TextIOWrapper name='files/53b1c166-76b6-4589-8afe-d34b96e5b772.json' mode='r' encoding='UTF-8'>\n",
      "(<class 'json.decoder.JSONDecodeError'>, JSONDecodeError('Expecting value: line 1 column 1 (char 0)'), <traceback object at 0x7f4cf5487c08>)\n",
      "<_io.TextIOWrapper name='files/00044b4d-77d7-49b3-a64e-60c53076fc01.json' mode='r' encoding='UTF-8'>\n",
      "(<class 'json.decoder.JSONDecodeError'>, JSONDecodeError('Expecting value: line 1 column 1 (char 0)'), <traceback object at 0x7f4cf5487d08>)\n",
      "<_io.TextIOWrapper name='files/a896b17c-496b-4cbf-852d-7aef23c81b8d.json' mode='r' encoding='UTF-8'>\n",
      "(<class 'json.decoder.JSONDecodeError'>, JSONDecodeError('Expecting value: line 1 column 1 (char 0)'), <traceback object at 0x7f4cf5487e08>)\n",
      "<_io.TextIOWrapper name='files/2ca21bdf-ab51-45ae-a3c8-de372c25c414.json' mode='r' encoding='UTF-8'>\n",
      "(<class 'json.decoder.JSONDecodeError'>, JSONDecodeError('Expecting value: line 1 column 1 (char 0)'), <traceback object at 0x7f4cf5487f08>)\n",
      "<_io.TextIOWrapper name='files/13a27fc1-6292-4463-b244-6911f524124b.json' mode='r' encoding='UTF-8'>\n",
      "(<class 'json.decoder.JSONDecodeError'>, JSONDecodeError('Expecting value: line 1 column 1 (char 0)'), <traceback object at 0x7f4cf548f048>)\n",
      "<_io.TextIOWrapper name='files/e5499755-37de-4589-8cfc-91ad482df337.json' mode='r' encoding='UTF-8'>\n",
      "(<class 'json.decoder.JSONDecodeError'>, JSONDecodeError('Expecting value: line 1 column 1 (char 0)'), <traceback object at 0x7f4cf548f048>)\n",
      "<_io.TextIOWrapper name='files/0a25c147-4bab-4786-9173-6cafec513bdd.json' mode='r' encoding='UTF-8'>\n",
      "(<class 'json.decoder.JSONDecodeError'>, JSONDecodeError('Expecting value: line 1 column 1 (char 0)'), <traceback object at 0x7f4cf548f048>)\n",
      "<_io.TextIOWrapper name='files/8f249be1-eadf-4a39-8e58-bcb1f1eb2b07.json' mode='r' encoding='UTF-8'>\n",
      "(<class 'json.decoder.JSONDecodeError'>, JSONDecodeError('Expecting value: line 1 column 1 (char 0)'), <traceback object at 0x7f4cf548f048>)\n",
      "<_io.TextIOWrapper name='files/4da14550-c900-462d-8604-e459ed8bfe66.json' mode='r' encoding='UTF-8'>\n",
      "(<class 'json.decoder.JSONDecodeError'>, JSONDecodeError('Expecting value: line 1 column 1 (char 0)'), <traceback object at 0x7f4cf548f048>)\n",
      "<_io.TextIOWrapper name='files/3554aae1-b0b0-4351-a459-f93502145f18.json' mode='r' encoding='UTF-8'>\n",
      "(<class 'json.decoder.JSONDecodeError'>, JSONDecodeError('Expecting value: line 1 column 1 (char 0)'), <traceback object at 0x7f4cf548f048>)\n",
      "<_io.TextIOWrapper name='files/c59e1fe2-4a95-4c05-a9d9-a0341ec83bb8.json' mode='r' encoding='UTF-8'>\n",
      "(<class 'json.decoder.JSONDecodeError'>, JSONDecodeError('Expecting value: line 1 column 1 (char 0)'), <traceback object at 0x7f4cf548f048>)\n",
      "<_io.TextIOWrapper name='files/993c0986-7140-4f4f-a740-c0ae9aecc7fe.json' mode='r' encoding='UTF-8'>\n",
      "(<class 'json.decoder.JSONDecodeError'>, JSONDecodeError('Expecting value: line 1 column 1 (char 0)'), <traceback object at 0x7f4cf548f048>)\n",
      "<_io.TextIOWrapper name='files/f3bddd06-02a5-46ea-9638-581fa07ecb15.json' mode='r' encoding='UTF-8'>\n",
      "(<class 'json.decoder.JSONDecodeError'>, JSONDecodeError('Expecting value: line 1 column 1 (char 0)'), <traceback object at 0x7f4cf548f048>)\n",
      "<_io.TextIOWrapper name='files/f5862f3f-855d-4ae3-9c40-e1b060aa97e1.json' mode='r' encoding='UTF-8'>\n",
      "(<class 'json.decoder.JSONDecodeError'>, JSONDecodeError('Expecting value: line 1 column 1 (char 0)'), <traceback object at 0x7f4cf548f048>)\n",
      "<_io.TextIOWrapper name='files/e3496f93-cf21-429a-81cc-89cd183a869c.json' mode='r' encoding='UTF-8'>\n",
      "(<class 'json.decoder.JSONDecodeError'>, JSONDecodeError('Expecting value: line 1 column 1 (char 0)'), <traceback object at 0x7f4cf548f048>)\n",
      "<_io.TextIOWrapper name='files/2a948f28-d5b6-3303-806b-d8ef901127aa.json' mode='r' encoding='UTF-8'>\n",
      "(<class 'json.decoder.JSONDecodeError'>, JSONDecodeError('Expecting value: line 1 column 1 (char 0)'), <traceback object at 0x7f4cf548f048>)\n",
      "<_io.TextIOWrapper name='files/6b3bbd5a-0b4e-365e-bde1-d3eceaad9d5e.json' mode='r' encoding='UTF-8'>\n",
      "(<class 'json.decoder.JSONDecodeError'>, JSONDecodeError('Expecting value: line 1 column 1 (char 0)'), <traceback object at 0x7f4cf548f048>)\n",
      "<_io.TextIOWrapper name='files/6c516b2c-7134-39b1-8f84-4bbb46ed593c.json' mode='r' encoding='UTF-8'>\n",
      "(<class 'json.decoder.JSONDecodeError'>, JSONDecodeError('Expecting value: line 1 column 1 (char 0)'), <traceback object at 0x7f4cf548f048>)\n",
      "<_io.TextIOWrapper name='files/2804111f-4b57-4387-8b1b-1e6c76e6769c.json' mode='r' encoding='UTF-8'>\n",
      "(<class 'json.decoder.JSONDecodeError'>, JSONDecodeError('Expecting value: line 1 column 1 (char 0)'), <traceback object at 0x7f4cf548f048>)\n",
      "<_io.TextIOWrapper name='files/54251b3e-630d-4f90-b47c-62390b90c61e.json' mode='r' encoding='UTF-8'>\n",
      "(<class 'json.decoder.JSONDecodeError'>, JSONDecodeError('Expecting value: line 1 column 1 (char 0)'), <traceback object at 0x7f4cf548f048>)\n",
      "<_io.TextIOWrapper name='files/ea2d6fcf-0d32-3e65-9fd1-e9fd5006320f.json' mode='r' encoding='UTF-8'>\n",
      "(<class 'json.decoder.JSONDecodeError'>, JSONDecodeError('Expecting value: line 1 column 1 (char 0)'), <traceback object at 0x7f4cf548f048>)\n",
      "<_io.TextIOWrapper name='files/5757fff7-068f-3328-8eb0-cb427891e0cd.json' mode='r' encoding='UTF-8'>\n",
      "(<class 'json.decoder.JSONDecodeError'>, JSONDecodeError('Expecting value: line 1 column 1 (char 0)'), <traceback object at 0x7f4cf548f048>)\n",
      "<_io.TextIOWrapper name='files/aba53d8f-952c-4905-8aae-05c2405e0b04.json' mode='r' encoding='UTF-8'>\n",
      "(<class 'json.decoder.JSONDecodeError'>, JSONDecodeError('Expecting value: line 1 column 1 (char 0)'), <traceback object at 0x7f4cf548f048>)\n",
      "<_io.TextIOWrapper name='files/d355603c-cff4-451e-bcc5-decefcb8c9c8.json' mode='r' encoding='UTF-8'>\n",
      "(<class 'json.decoder.JSONDecodeError'>, JSONDecodeError('Expecting value: line 1 column 1 (char 0)'), <traceback object at 0x7f4cf548f048>)\n",
      "<_io.TextIOWrapper name='files/07f66e77-96e9-44a4-86c5-2648c30b388d.json' mode='r' encoding='UTF-8'>\n",
      "(<class 'json.decoder.JSONDecodeError'>, JSONDecodeError('Expecting value: line 1 column 1 (char 0)'), <traceback object at 0x7f4cf548f048>)\n",
      "<_io.TextIOWrapper name='files/220b07d0-f811-33af-b894-53dd025cbee9.json' mode='r' encoding='UTF-8'>\n",
      "(<class 'json.decoder.JSONDecodeError'>, JSONDecodeError('Expecting value: line 1 column 1 (char 0)'), <traceback object at 0x7f4cf548f048>)\n",
      "<_io.TextIOWrapper name='files/5bd52222-6fe7-44f0-9e79-e1318dc6068e.json' mode='r' encoding='UTF-8'>\n",
      "(<class 'json.decoder.JSONDecodeError'>, JSONDecodeError('Expecting value: line 1 column 1 (char 0)'), <traceback object at 0x7f4cf548f048>)\n",
      "<_io.TextIOWrapper name='files/3d1a4944-3fbe-45ef-a20f-c8eb0b463ff1.json' mode='r' encoding='UTF-8'>\n",
      "(<class 'json.decoder.JSONDecodeError'>, JSONDecodeError('Expecting value: line 1 column 1 (char 0)'), <traceback object at 0x7f4cf548f048>)\n",
      "<_io.TextIOWrapper name='files/a08efffd-410f-3979-89c6-86222d53884f.json' mode='r' encoding='UTF-8'>\n",
      "(<class 'json.decoder.JSONDecodeError'>, JSONDecodeError('Expecting value: line 1 column 1 (char 0)'), <traceback object at 0x7f4cf548f048>)\n",
      "<_io.TextIOWrapper name='files/3a95a6d1-2b23-3da4-be44-d964ac0be248.json' mode='r' encoding='UTF-8'>\n",
      "(<class 'json.decoder.JSONDecodeError'>, JSONDecodeError('Expecting value: line 1 column 1 (char 0)'), <traceback object at 0x7f4cf548f048>)\n",
      "<_io.TextIOWrapper name='files/c444949e-efe8-456b-beba-6850fc125fcc.json' mode='r' encoding='UTF-8'>\n",
      "(<class 'json.decoder.JSONDecodeError'>, JSONDecodeError('Expecting value: line 1 column 1 (char 0)'), <traceback object at 0x7f4cf548f048>)\n",
      "<_io.TextIOWrapper name='files/219d7e1d-64fa-3e0d-bb07-d184b59d742f.json' mode='r' encoding='UTF-8'>\n",
      "(<class 'json.decoder.JSONDecodeError'>, JSONDecodeError('Expecting value: line 1 column 1 (char 0)'), <traceback object at 0x7f4cf548f048>)\n",
      "<_io.TextIOWrapper name='files/1f69a658-acd8-32ca-9d6d-5c9cfcd50e62.json' mode='r' encoding='UTF-8'>\n",
      "(<class 'json.decoder.JSONDecodeError'>, JSONDecodeError('Expecting value: line 1 column 1 (char 0)'), <traceback object at 0x7f4cf548f048>)\n",
      "<_io.TextIOWrapper name='files/0a6559d6-c7f0-3dcb-9a98-bc24546dc0c2.json' mode='r' encoding='UTF-8'>\n",
      "(<class 'json.decoder.JSONDecodeError'>, JSONDecodeError('Expecting value: line 1 column 1 (char 0)'), <traceback object at 0x7f4cf548f048>)\n",
      "<_io.TextIOWrapper name='files/d63492bf-f158-4cd1-9ca9-ece07b258ce2.json' mode='r' encoding='UTF-8'>\n",
      "(<class 'json.decoder.JSONDecodeError'>, JSONDecodeError('Expecting value: line 1 column 1 (char 0)'), <traceback object at 0x7f4cf548f048>)\n",
      "<_io.TextIOWrapper name='files/504838a1-bceb-3db5-94ff-2a690dc78a99.json' mode='r' encoding='UTF-8'>\n",
      "(<class 'json.decoder.JSONDecodeError'>, JSONDecodeError('Expecting value: line 1 column 1 (char 0)'), <traceback object at 0x7f4cf548f048>)\n",
      "<_io.TextIOWrapper name='files/b62b3dae-e363-40bc-9050-488ac0d4d50a.json' mode='r' encoding='UTF-8'>\n",
      "(<class 'json.decoder.JSONDecodeError'>, JSONDecodeError('Expecting value: line 1 column 1 (char 0)'), <traceback object at 0x7f4cf548f048>)\n",
      "<_io.TextIOWrapper name='files/c9dc0c47-a461-3cf1-90c6-9dee753ef606.json' mode='r' encoding='UTF-8'>\n",
      "(<class 'json.decoder.JSONDecodeError'>, JSONDecodeError('Expecting value: line 1 column 1 (char 0)'), <traceback object at 0x7f4cf548f048>)\n",
      "<_io.TextIOWrapper name='files/374c16a5-ad7c-3f5a-833e-ef7242dcec26.json' mode='r' encoding='UTF-8'>\n",
      "(<class 'json.decoder.JSONDecodeError'>, JSONDecodeError('Expecting value: line 1 column 1 (char 0)'), <traceback object at 0x7f4cf5156948>)\n",
      "<_io.TextIOWrapper name='files/3e6a43fe-30d4-317c-9981-61017b3e6833.json' mode='r' encoding='UTF-8'>\n",
      "(<class 'json.decoder.JSONDecodeError'>, JSONDecodeError('Expecting value: line 1 column 1 (char 0)'), <traceback object at 0x7f4cf51569c8>)\n",
      "<_io.TextIOWrapper name='files/682da87a-33ab-3fc0-83b1-5d33564b8ff3.json' mode='r' encoding='UTF-8'>\n",
      "(<class 'json.decoder.JSONDecodeError'>, JSONDecodeError('Expecting value: line 1 column 1 (char 0)'), <traceback object at 0x7f4cf5156a08>)\n",
      "<_io.TextIOWrapper name='files/fe4c9c02-8a28-3b46-b1e5-05f08f8b3750.json' mode='r' encoding='UTF-8'>\n",
      "(<class 'json.decoder.JSONDecodeError'>, JSONDecodeError('Expecting value: line 1 column 1 (char 0)'), <traceback object at 0x7f4cf5156988>)\n",
      "<_io.TextIOWrapper name='files/35d43d81-c9cb-34f0-acf0-536e7a2ebec4.json' mode='r' encoding='UTF-8'>\n",
      "(<class 'json.decoder.JSONDecodeError'>, JSONDecodeError('Expecting value: line 1 column 1 (char 0)'), <traceback object at 0x7f4cf5156a08>)\n",
      "<_io.TextIOWrapper name='files/31695d90-7318-487b-81e4-7d475622e486.json' mode='r' encoding='UTF-8'>\n",
      "(<class 'json.decoder.JSONDecodeError'>, JSONDecodeError('Expecting value: line 1 column 1 (char 0)'), <traceback object at 0x7f4cdc5af9c8>)\n",
      "<_io.TextIOWrapper name='files/0a4c6dd9-c054-493a-adcf-c996473cd72e.json' mode='r' encoding='UTF-8'>\n",
      "(<class 'json.decoder.JSONDecodeError'>, JSONDecodeError('Expecting value: line 1 column 1 (char 0)'), <traceback object at 0x7f4cdc5afe08>)\n",
      "<_io.TextIOWrapper name='files/bd093f1f-7ed8-4524-a17f-276c9c7d1439.json' mode='r' encoding='UTF-8'>\n",
      "(<class 'json.decoder.JSONDecodeError'>, JSONDecodeError('Expecting value: line 1 column 1 (char 0)'), <traceback object at 0x7f4cdc5afe48>)\n",
      "<_io.TextIOWrapper name='files/0a4b386a-7547-4bb2-9e9b-bf0c20a3c014.json' mode='r' encoding='UTF-8'>\n",
      "(<class 'json.decoder.JSONDecodeError'>, JSONDecodeError('Expecting value: line 1 column 1 (char 0)'), <traceback object at 0x7f4cdc5afd88>)\n",
      "<_io.TextIOWrapper name='files/88483da8-0cbd-4a13-9dc9-240831d13de7.json' mode='r' encoding='UTF-8'>\n",
      "(<class 'json.decoder.JSONDecodeError'>, JSONDecodeError('Expecting value: line 1 column 1 (char 0)'), <traceback object at 0x7f4cdc5afe08>)\n",
      "<_io.TextIOWrapper name='files/c5382ce3-b1ef-430d-a17e-95865fc8a060.json' mode='r' encoding='UTF-8'>\n",
      "(<class 'json.decoder.JSONDecodeError'>, JSONDecodeError('Expecting value: line 1 column 1 (char 0)'), <traceback object at 0x7f4cdc5afd88>)\n",
      "<_io.TextIOWrapper name='files/5dfb2a36-016c-44da-af4c-e5f0793b7b4f.json' mode='r' encoding='UTF-8'>\n",
      "(<class 'json.decoder.JSONDecodeError'>, JSONDecodeError('Expecting value: line 1 column 1 (char 0)'), <traceback object at 0x7f4cdc5afe08>)\n",
      "<_io.TextIOWrapper name='files/6a704fc0-f2c4-47fa-96a8-708a08c54063.json' mode='r' encoding='UTF-8'>\n",
      "(<class 'json.decoder.JSONDecodeError'>, JSONDecodeError('Expecting value: line 1 column 1 (char 0)'), <traceback object at 0x7f4cdc5afd88>)\n",
      "<_io.TextIOWrapper name='files/ed94c2ba-2f15-40ba-8863-55acf2bf5032.json' mode='r' encoding='UTF-8'>\n",
      "(<class 'json.decoder.JSONDecodeError'>, JSONDecodeError('Expecting value: line 1 column 1 (char 0)'), <traceback object at 0x7f4cdc5afe08>)\n",
      "<_io.TextIOWrapper name='files/accbe1ad-c1b8-4e80-8387-07ecfcc874df.json' mode='r' encoding='UTF-8'>\n",
      "(<class 'json.decoder.JSONDecodeError'>, JSONDecodeError('Expecting value: line 1 column 1 (char 0)'), <traceback object at 0x7f4cdc5afd88>)\n",
      "<_io.TextIOWrapper name='files/4bcd9ca8-a11e-4c66-958e-caba878a6790.json' mode='r' encoding='UTF-8'>\n",
      "(<class 'json.decoder.JSONDecodeError'>, JSONDecodeError('Expecting value: line 1 column 1 (char 0)'), <traceback object at 0x7f4cdc5afe08>)\n",
      "<_io.TextIOWrapper name='files/b5003a98-c75d-4c0a-a265-032ef8f4a29d.json' mode='r' encoding='UTF-8'>\n",
      "(<class 'json.decoder.JSONDecodeError'>, JSONDecodeError('Expecting value: line 1 column 1 (char 0)'), <traceback object at 0x7f4cdc5afd88>)\n",
      "<_io.TextIOWrapper name='files/6cf04716-3251-430f-9b2e-b37134b615b4.json' mode='r' encoding='UTF-8'>\n",
      "(<class 'json.decoder.JSONDecodeError'>, JSONDecodeError('Expecting value: line 1 column 1 (char 0)'), <traceback object at 0x7f4cdc5afe08>)\n",
      "<_io.TextIOWrapper name='files/23a4c750-6f16-41a9-ace7-7aef6c577c81.json' mode='r' encoding='UTF-8'>\n",
      "(<class 'json.decoder.JSONDecodeError'>, JSONDecodeError('Expecting value: line 1 column 1 (char 0)'), <traceback object at 0x7f4cdc5afd88>)\n",
      "<_io.TextIOWrapper name='files/9af62902-310d-4e01-8c2a-58eb89360930.json' mode='r' encoding='UTF-8'>\n",
      "(<class 'json.decoder.JSONDecodeError'>, JSONDecodeError('Expecting value: line 1 column 1 (char 0)'), <traceback object at 0x7f4cdc5afe08>)\n",
      "<_io.TextIOWrapper name='files/4b05347b-4d66-4981-a79a-bb6a3c1fd0d5.json' mode='r' encoding='UTF-8'>\n",
      "(<class 'json.decoder.JSONDecodeError'>, JSONDecodeError('Expecting value: line 1 column 1 (char 0)'), <traceback object at 0x7f4cdc5afd88>)\n",
      "<_io.TextIOWrapper name='files/b1e584ec-fcd0-49fc-818c-11bbdf5fb439.json' mode='r' encoding='UTF-8'>\n",
      "(<class 'json.decoder.JSONDecodeError'>, JSONDecodeError('Expecting value: line 1 column 1 (char 0)'), <traceback object at 0x7f4cdc5afe08>)\n",
      "<_io.TextIOWrapper name='files/025effe4-4983-42fb-8fd1-cdf74a34e1c0.json' mode='r' encoding='UTF-8'>\n",
      "(<class 'json.decoder.JSONDecodeError'>, JSONDecodeError('Expecting value: line 1 column 1 (char 0)'), <traceback object at 0x7f4cdc5afd88>)\n",
      "<_io.TextIOWrapper name='files/27b86f3e-5c98-4208-8d3d-35133f6f5359.json' mode='r' encoding='UTF-8'>\n",
      "(<class 'json.decoder.JSONDecodeError'>, JSONDecodeError('Expecting value: line 1 column 1 (char 0)'), <traceback object at 0x7f4cdc5afe08>)\n",
      "<_io.TextIOWrapper name='files/a1800674-186c-3d29-9da4-7ea0bb44f1ed.json' mode='r' encoding='UTF-8'>\n",
      "(<class 'json.decoder.JSONDecodeError'>, JSONDecodeError('Expecting value: line 1 column 1 (char 0)'), <traceback object at 0x7f4cdc5afd88>)\n",
      "<_io.TextIOWrapper name='files/fb8f83fb-6f06-4dc2-86cc-86c89b5ebc48.json' mode='r' encoding='UTF-8'>\n",
      "(<class 'json.decoder.JSONDecodeError'>, JSONDecodeError('Expecting value: line 1 column 1 (char 0)'), <traceback object at 0x7f4cdc5afe08>)\n",
      "<_io.TextIOWrapper name='files/015c574b-5fb5-4f6b-9e89-8c40ba62516b.json' mode='r' encoding='UTF-8'>\n",
      "(<class 'json.decoder.JSONDecodeError'>, JSONDecodeError('Expecting value: line 1 column 1 (char 0)'), <traceback object at 0x7f4cdc5afd88>)\n",
      "<_io.TextIOWrapper name='files/e263f5e7-bcf8-4d31-9405-4060a3df5348.json' mode='r' encoding='UTF-8'>\n",
      "(<class 'json.decoder.JSONDecodeError'>, JSONDecodeError('Expecting value: line 1 column 1 (char 0)'), <traceback object at 0x7f4cdc5afe08>)\n",
      "<_io.TextIOWrapper name='files/f651a5cc-a7c5-4d28-9959-f6d4ae90ff69.json' mode='r' encoding='UTF-8'>\n",
      "(<class 'json.decoder.JSONDecodeError'>, JSONDecodeError('Expecting value: line 1 column 1 (char 0)'), <traceback object at 0x7f4cdc5afd88>)\n",
      "<_io.TextIOWrapper name='files/7c707949-211c-32c6-a023-324a71778021.json' mode='r' encoding='UTF-8'>\n",
      "(<class 'json.decoder.JSONDecodeError'>, JSONDecodeError('Expecting value: line 1 column 1 (char 0)'), <traceback object at 0x7f4cdc5afe08>)\n",
      "<_io.TextIOWrapper name='files/1da238bc-37ae-4d33-90e4-25fcb77d7670.json' mode='r' encoding='UTF-8'>\n",
      "(<class 'json.decoder.JSONDecodeError'>, JSONDecodeError('Expecting value: line 1 column 1 (char 0)'), <traceback object at 0x7f4cdc5afd88>)\n",
      "<_io.TextIOWrapper name='files/ff5d89ad-72bf-4eff-8d95-c9dd0df43d56.json' mode='r' encoding='UTF-8'>\n",
      "(<class 'json.decoder.JSONDecodeError'>, JSONDecodeError('Expecting value: line 1 column 1 (char 0)'), <traceback object at 0x7f4cdc5afe08>)\n",
      "<_io.TextIOWrapper name='files/c0f04767-8df9-42b4-9d8d-691e736d0a1e.json' mode='r' encoding='UTF-8'>\n",
      "(<class 'json.decoder.JSONDecodeError'>, JSONDecodeError('Expecting value: line 1 column 1 (char 0)'), <traceback object at 0x7f4cdc5afd88>)\n",
      "<_io.TextIOWrapper name='files/2175e1db-370e-3e89-9ba2-6d7844f82008.json' mode='r' encoding='UTF-8'>\n",
      "(<class 'json.decoder.JSONDecodeError'>, JSONDecodeError('Expecting value: line 1 column 1 (char 0)'), <traceback object at 0x7f4cdc5afe08>)\n",
      "<_io.TextIOWrapper name='files/8f2a0b25-2164-4350-9414-e57ef5b51208.json' mode='r' encoding='UTF-8'>\n",
      "(<class 'json.decoder.JSONDecodeError'>, JSONDecodeError('Expecting value: line 1 column 1 (char 0)'), <traceback object at 0x7f4cdc5afd88>)\n",
      "<_io.TextIOWrapper name='files/be59ff39-48d1-4b08-aa39-e34ae04ba3dc.json' mode='r' encoding='UTF-8'>\n",
      "(<class 'json.decoder.JSONDecodeError'>, JSONDecodeError('Expecting value: line 1 column 1 (char 0)'), <traceback object at 0x7f4cdc5afe08>)\n",
      "<_io.TextIOWrapper name='files/45d84bef-3df8-4f1f-9f0d-b812ef7acc9f.json' mode='r' encoding='UTF-8'>\n",
      "(<class 'json.decoder.JSONDecodeError'>, JSONDecodeError('Expecting value: line 1 column 1 (char 0)'), <traceback object at 0x7f4cdc5afd88>)\n",
      "<_io.TextIOWrapper name='files/382f081e-4a78-4ae8-93ce-1470af22e81c.json' mode='r' encoding='UTF-8'>\n",
      "(<class 'json.decoder.JSONDecodeError'>, JSONDecodeError('Expecting value: line 1 column 1 (char 0)'), <traceback object at 0x7f4cdc5afe08>)\n",
      "<_io.TextIOWrapper name='files/728af619-8f63-462b-a73b-9bac70dd1304.json' mode='r' encoding='UTF-8'>\n",
      "(<class 'json.decoder.JSONDecodeError'>, JSONDecodeError('Expecting value: line 1 column 1 (char 0)'), <traceback object at 0x7f4cdc5afd88>)\n",
      "<_io.TextIOWrapper name='files/a86346e6-d809-49cd-a3b6-1bde2674e5c1.json' mode='r' encoding='UTF-8'>\n",
      "(<class 'json.decoder.JSONDecodeError'>, JSONDecodeError('Expecting value: line 1 column 1 (char 0)'), <traceback object at 0x7f4cdc5afe08>)\n",
      "<_io.TextIOWrapper name='files/00a603aa-db7d-4c44-92a6-5984eb4eebd6.json' mode='r' encoding='UTF-8'>\n",
      "(<class 'json.decoder.JSONDecodeError'>, JSONDecodeError('Expecting value: line 1 column 1 (char 0)'), <traceback object at 0x7f4cdc5afd88>)\n",
      "<_io.TextIOWrapper name='files/dffe7c80-cf53-420b-b0b5-48f0ee6466a6.json' mode='r' encoding='UTF-8'>\n",
      "(<class 'json.decoder.JSONDecodeError'>, JSONDecodeError('Expecting value: line 1 column 1 (char 0)'), <traceback object at 0x7f4cdc5afe08>)\n",
      "<_io.TextIOWrapper name='files/25711fe0-25aa-42b7-b5bc-dd594092630f.json' mode='r' encoding='UTF-8'>\n",
      "(<class 'json.decoder.JSONDecodeError'>, JSONDecodeError('Expecting value: line 1 column 1 (char 0)'), <traceback object at 0x7f4cdc5afd88>)\n",
      "<_io.TextIOWrapper name='files/7b81cba6-4514-442e-b935-f66c71a53fe3.json' mode='r' encoding='UTF-8'>\n",
      "(<class 'json.decoder.JSONDecodeError'>, JSONDecodeError('Expecting value: line 1 column 1 (char 0)'), <traceback object at 0x7f4cdc5afe08>)\n",
      "<_io.TextIOWrapper name='files/60596b99-6296-4c17-a454-12d0f1c5d211.json' mode='r' encoding='UTF-8'>\n",
      "(<class 'json.decoder.JSONDecodeError'>, JSONDecodeError('Expecting value: line 1 column 1 (char 0)'), <traceback object at 0x7f4cdc5afd88>)\n",
      "<_io.TextIOWrapper name='files/7d1662ae-5de7-4c9e-b734-2930c35f11cb.json' mode='r' encoding='UTF-8'>\n",
      "(<class 'json.decoder.JSONDecodeError'>, JSONDecodeError('Expecting value: line 1 column 1 (char 0)'), <traceback object at 0x7f4cdc5afe08>)\n",
      "<_io.TextIOWrapper name='files/9faae80f-bbee-4dc7-8507-d9bc66ec458f.json' mode='r' encoding='UTF-8'>\n",
      "(<class 'json.decoder.JSONDecodeError'>, JSONDecodeError('Expecting value: line 1 column 1 (char 0)'), <traceback object at 0x7f4cdc5afd88>)\n",
      "<_io.TextIOWrapper name='files/a9599bb8-89ed-498f-ad08-7548d13508a3.json' mode='r' encoding='UTF-8'>\n",
      "(<class 'json.decoder.JSONDecodeError'>, JSONDecodeError('Expecting value: line 1 column 1 (char 0)'), <traceback object at 0x7f4cdc5afe08>)\n",
      "<_io.TextIOWrapper name='files/29299c09-c929-4727-97e1-a67204347d6e.json' mode='r' encoding='UTF-8'>\n",
      "(<class 'json.decoder.JSONDecodeError'>, JSONDecodeError('Expecting value: line 1 column 1 (char 0)'), <traceback object at 0x7f4cdc5afd88>)\n",
      "<_io.TextIOWrapper name='files/52efb1b6-cc2f-3ecf-8daf-7ded7f209958.json' mode='r' encoding='UTF-8'>\n",
      "(<class 'json.decoder.JSONDecodeError'>, JSONDecodeError('Expecting value: line 1 column 1 (char 0)'), <traceback object at 0x7f4cdc5afe08>)\n",
      "<_io.TextIOWrapper name='files/c847b08e-83e9-43fe-9f19-5ef43c93a50d.json' mode='r' encoding='UTF-8'>\n",
      "(<class 'json.decoder.JSONDecodeError'>, JSONDecodeError('Expecting value: line 1 column 1 (char 0)'), <traceback object at 0x7f4cdc5afd88>)\n",
      "<_io.TextIOWrapper name='files/3241c240-fd90-4c26-b5e5-e48dd36b9769.json' mode='r' encoding='UTF-8'>\n",
      "(<class 'json.decoder.JSONDecodeError'>, JSONDecodeError('Expecting value: line 1 column 1 (char 0)'), <traceback object at 0x7f4cdc5afe08>)\n",
      "<_io.TextIOWrapper name='files/83f6b3e8-e17c-4dd8-b6e7-ab725a78ec1d.json' mode='r' encoding='UTF-8'>\n",
      "(<class 'json.decoder.JSONDecodeError'>, JSONDecodeError('Expecting value: line 1 column 1 (char 0)'), <traceback object at 0x7f4cdc5afd88>)\n",
      "<_io.TextIOWrapper name='files/c9450886-7518-4840-9b39-ecd511578888.json' mode='r' encoding='UTF-8'>\n",
      "(<class 'json.decoder.JSONDecodeError'>, JSONDecodeError('Expecting value: line 1 column 1 (char 0)'), <traceback object at 0x7f4cdc5afe08>)\n",
      "<_io.TextIOWrapper name='files/1ff77ddc-64c0-4cfa-9957-13be20fc900c.json' mode='r' encoding='UTF-8'>\n",
      "(<class 'json.decoder.JSONDecodeError'>, JSONDecodeError('Expecting value: line 1 column 1 (char 0)'), <traceback object at 0x7f4cdc5afd88>)\n",
      "<_io.TextIOWrapper name='files/47cd7360-33e8-416c-a598-1bd338796758.json' mode='r' encoding='UTF-8'>\n",
      "(<class 'json.decoder.JSONDecodeError'>, JSONDecodeError('Expecting value: line 1 column 1 (char 0)'), <traceback object at 0x7f4cdc5afe08>)\n",
      "<_io.TextIOWrapper name='files/d9cd314d-3aa8-46bf-910a-26b5f9946b08.json' mode='r' encoding='UTF-8'>\n",
      "(<class 'json.decoder.JSONDecodeError'>, JSONDecodeError('Expecting value: line 1 column 1 (char 0)'), <traceback object at 0x7f4cdc5afd88>)\n",
      "<_io.TextIOWrapper name='files/7460c0d3-29f9-4bc1-910f-b4cab0e98db1.json' mode='r' encoding='UTF-8'>\n",
      "(<class 'json.decoder.JSONDecodeError'>, JSONDecodeError('Expecting value: line 1 column 1 (char 0)'), <traceback object at 0x7f4cdc5afe08>)\n",
      "<_io.TextIOWrapper name='files/a9b767c3-f8bf-4fd5-92df-9032fd29a3dd.json' mode='r' encoding='UTF-8'>\n",
      "(<class 'json.decoder.JSONDecodeError'>, JSONDecodeError('Expecting value: line 1 column 1 (char 0)'), <traceback object at 0x7f4cdc5afd88>)\n",
      "<_io.TextIOWrapper name='files/7fbae1d0-1667-4c3e-92e0-8ba7fb33eedc.json' mode='r' encoding='UTF-8'>\n",
      "(<class 'json.decoder.JSONDecodeError'>, JSONDecodeError('Expecting value: line 1 column 1 (char 0)'), <traceback object at 0x7f4cdc5afe08>)\n",
      "<_io.TextIOWrapper name='files/bff7f368-bf83-4de4-94f8-c1bf39a9beb0.json' mode='r' encoding='UTF-8'>\n",
      "(<class 'json.decoder.JSONDecodeError'>, JSONDecodeError('Expecting value: line 1 column 1 (char 0)'), <traceback object at 0x7f4cdc5afd88>)\n",
      "<_io.TextIOWrapper name='files/6f2cbd97-99d8-4ad5-aad6-0d00e0e42686.json' mode='r' encoding='UTF-8'>\n",
      "(<class 'json.decoder.JSONDecodeError'>, JSONDecodeError('Expecting value: line 1 column 1 (char 0)'), <traceback object at 0x7f4cdc5afe08>)\n",
      "<_io.TextIOWrapper name='files/f0ca30f7-6cce-4939-a3f0-d0ab6bcc6819.json' mode='r' encoding='UTF-8'>\n",
      "(<class 'json.decoder.JSONDecodeError'>, JSONDecodeError('Expecting value: line 1 column 1 (char 0)'), <traceback object at 0x7f4cdc5afd88>)\n",
      "<_io.TextIOWrapper name='files/4f7ae1af-cb50-474f-ae67-56e9f2405bf9.json' mode='r' encoding='UTF-8'>\n",
      "(<class 'json.decoder.JSONDecodeError'>, JSONDecodeError('Expecting value: line 1 column 1 (char 0)'), <traceback object at 0x7f4cdc5afe08>)\n",
      "<_io.TextIOWrapper name='files/2ea6c1f1-35e3-4eee-aab6-7765b799e134.json' mode='r' encoding='UTF-8'>\n",
      "(<class 'json.decoder.JSONDecodeError'>, JSONDecodeError('Expecting value: line 1 column 1 (char 0)'), <traceback object at 0x7f4cdc5afd88>)\n"
     ]
    }
   ],
   "source": [
    "# Cria o objeto work [:10001]\n",
    "for file in files[:200001]:\n",
    "    with open('files/'+file, 'r') as f:\n",
    "        try:\n",
    "            tmp_json = json.load(f)\n",
    "            if tmp_json and tmp_json.get('relations') != None:          \n",
    "#             print(tmp_json)\n",
    "                works.append(tmp_json)\n",
    "        except:\n",
    "            print(repr(f))\n",
    "            print(sys.exc_info())"
   ]
  },
  {
   "cell_type": "code",
   "execution_count": 4,
   "metadata": {
    "collapsed": true
   },
   "outputs": [],
   "source": [
    "# for work in works:    \n",
    "#     if not work.get('id') == None:        \n",
    "        \n",
    "#         color = random.choice(colors)    \n",
    "#         cprint((work.get('id'),work.get('title')), color=color)\n",
    "# #         cprint( color)\n",
    "            \n",
    "#         for titular in work['relations']:\n",
    "#             if not titular.get('type') == 'performance':\n",
    "#                 cprint((titular['artist']['name'], \"==>\", titular['type']), color)         \n",
    "                "
   ]
  },
  {
   "cell_type": "code",
   "execution_count": 5,
   "metadata": {},
   "outputs": [],
   "source": [
    "# Retonar todos os compositores de uma obra\n",
    "# Refazer para fazer a busca pelo ID da OBRA.\n",
    "def get_list_titular(work_title):\n",
    "    list_tit = []\n",
    "    \n",
    "    for work in works:    \n",
    "        if work.get('title') == work_title:\n",
    "             for titular in work['relations']:\n",
    "                if not titular.get('type') == 'performance':\n",
    "                    list_tit.append(titular['artist']['name'])\n",
    "    return list(set(list_tit))\n",
    "    "
   ]
  },
  {
   "cell_type": "code",
   "execution_count": 6,
   "metadata": {},
   "outputs": [
    {
     "name": "stdout",
     "output_type": "stream",
     "text": [
      "['Brad Wilk', 'Tim Commerford', 'Zack de la Rocha', 'Tom Morello']\n",
      "['Διονύσης Τσακνής']\n",
      "['Big Little Dipper Dipper']\n"
     ]
    }
   ],
   "source": [
    "print(get_list_titular('Bulls on Parade')) \n",
    "print(get_list_titular('Γυρίζω τις πλάτες μου στο μέλλον'))\n",
    "print(get_list_titular('Block Party'))"
   ]
  },
  {
   "cell_type": "code",
   "execution_count": 7,
   "metadata": {},
   "outputs": [
    {
     "name": "stdout",
     "output_type": "stream",
     "text": [
      "{'target-type': 'recording', 'ended': False, 'attribute-ids': {}, 'source-credit': '', 'target-credit': '', 'type': 'performance', 'attribute-values': {}, 'end': None, 'recording': {'disambiguation': '', 'video': False, 'length': 190934, 'title': 'Que tú me culpes (aires de Mirabrás)', 'id': '8f639981-5ea2-4368-b8f4-65f9252e4146'}, 'direction': 'backward', 'begin': None, 'attributes': [], 'type-id': 'a3005666-a872-32c3-ad06-98af558e99b0'}\n",
      "{'type': 'writer', 'target-credit': '', 'source-credit': '', 'attribute-ids': {}, 'ended': False, 'target-type': 'artist', 'type-id': 'a255bca1-b157-4518-9108-7b147dc3fc68', 'attributes': [], 'artist': {'name': '[traditional]', 'id': '9be7f096-97ec-4615-8957-8d40b5dcbc41', 'disambiguation': 'Special Purpose Artist', 'sort-name': '[traditional]'}, 'direction': 'backward', 'begin': None, 'end': None, 'attribute-values': {}}\n"
     ]
    }
   ],
   "source": [
    "for i in tmp_json['relations']:\n",
    "    print(i)"
   ]
  },
  {
   "cell_type": "code",
   "execution_count": 8,
   "metadata": {
    "scrolled": true
   },
   "outputs": [],
   "source": [
    "# Retorna uma lista com todas obras em que o artista é compositor\n",
    "# Tenho que refazer e fazer a busca pelo id do artista\n",
    "def get_all_work_by_artist(artist):\n",
    "    tmp_works = []\n",
    "    \n",
    "    for work in works:\n",
    "        for art in work['relations']:            \n",
    "            if not art.get('type') == 'performance' and art['artist']['name'] == artist:\n",
    "                tmp_works.append(work['title'])\n",
    "    return list(set(tmp_works))\n",
    "    "
   ]
  },
  {
   "cell_type": "code",
   "execution_count": 9,
   "metadata": {
    "scrolled": true
   },
   "outputs": [
    {
     "data": {
      "text/plain": [
       "['Calm Like a Bomb',\n",
       " 'Maria',\n",
       " 'Mic Check',\n",
       " 'Dragons Lair, Part 2 (Testify Now)',\n",
       " 'Vietnow',\n",
       " 'Born as Ghosts',\n",
       " 'War Within a Breath',\n",
       " 'Bullet in the Head',\n",
       " 'Born of a Broken Man',\n",
       " 'No Shelter',\n",
       " 'Bulls on Parade',\n",
       " 'Voice of the Voiceless']"
      ]
     },
     "execution_count": 9,
     "metadata": {},
     "output_type": "execute_result"
    }
   ],
   "source": [
    "# Robert Smith\n",
    "# t = get_all_work_by_artist('Tom Morello')\n",
    "obras = get_all_work_by_artist('Zack de la Rocha')\n",
    "# t = get_all_work_by_artist('Robert Smith')\n",
    "\n",
    "obras"
   ]
  },
  {
   "cell_type": "code",
   "execution_count": 10,
   "metadata": {},
   "outputs": [
    {
     "name": "stdout",
     "output_type": "stream",
     "text": [
      "** Calm Like a Bomb **\n",
      "Brad Wilk\n",
      "Tim Commerford\n",
      "Zack de la Rocha\n",
      "Tom Morello\n",
      "** Maria **\n",
      "Werner Widmer\n",
      "Tim Commerford\n",
      "Colin Hay\n",
      "Johan Ledoux\n",
      "Astrid Nijgh\n",
      "French Thompson\n",
      "Lennaert Nijgh\n",
      "Zack de la Rocha\n",
      "Guillaume Ledoux\n",
      "Richard Rodgers\n",
      "Jimmy Destri\n",
      "Tom Morello\n",
      "林保徳\n",
      "Michael Boden\n",
      "Brad Wilk\n",
      "Henri\n",
      "Oscar Hammerstein II\n",
      "Max Coppella\n",
      "Ingo Hampf\n",
      "David Sylvian\n",
      "Mats Paulson\n",
      "** Mic Check **\n",
      "Tom Morello\n",
      "Tim Commerford\n",
      "Zack de la Rocha\n",
      "Imogen Heap\n",
      "Brad Wilk\n",
      "** Dragons Lair, Part 2 (Testify Now) **\n",
      "Rob Hubbard\n",
      "Zack de la Rocha\n",
      "** Vietnow **\n",
      "Brad Wilk\n",
      "Tim Commerford\n",
      "Zack de la Rocha\n",
      "Tom Morello\n",
      "** Born as Ghosts **\n",
      "Brad Wilk\n",
      "Tim Commerford\n",
      "Zack de la Rocha\n",
      "Tom Morello\n",
      "** War Within a Breath **\n",
      "Brad Wilk\n",
      "Tim Commerford\n",
      "Zack de la Rocha\n",
      "Tom Morello\n",
      "** Bullet in the Head **\n",
      "Brad Wilk\n",
      "Tim Commerford\n",
      "Zack de la Rocha\n",
      "Tom Morello\n",
      "** Born of a Broken Man **\n",
      "Brad Wilk\n",
      "Tim Commerford\n",
      "Zack de la Rocha\n",
      "Tom Morello\n",
      "** No Shelter **\n",
      "Tom Morello\n",
      "Tim Commerford\n",
      "Zack de la Rocha\n",
      "Charlie Hilton\n",
      "Jacob Portrait\n",
      "Brad Wilk\n",
      "** Bulls on Parade **\n",
      "Brad Wilk\n",
      "Tim Commerford\n",
      "Zack de la Rocha\n",
      "Tom Morello\n",
      "** Voice of the Voiceless **\n",
      "Brad Wilk\n",
      "Tim Commerford\n",
      "Zack de la Rocha\n",
      "Tom Morello\n"
     ]
    }
   ],
   "source": [
    "for i in obras:\n",
    "    print('**', i, '**')\n",
    "    for j in get_list_titular(i):\n",
    "        print(j)"
   ]
  },
  {
   "cell_type": "code",
   "execution_count": 11,
   "metadata": {},
   "outputs": [],
   "source": [
    "# retornar uma lista com todos os artitas com quem o artistas compos \n",
    "def get_list_artist_by_artist(artist):\n",
    "    list_art = []\n",
    "    \n",
    "    all_works_of_art = get_all_work_by_artist(artist)    \n",
    "    \n",
    "    for work in all_works_of_art:    \n",
    "        for wk in works:\n",
    "#           sem tratamento de obras homônimas \n",
    "            if work == wk['title']:\n",
    "               for tit in get_list_titular(wk['title']):\n",
    "                list_art.append(tit)\n",
    "\n",
    "    return list(set(list_art))"
   ]
  },
  {
   "cell_type": "code",
   "execution_count": 12,
   "metadata": {},
   "outputs": [],
   "source": [
    "ed = [('Zack de la Rocha', 'Werner Widmer'), ('Zack de la Rocha', 'Tom Morello'), ('Zack de la Rocha', 'Charlie Hilton'), ('Zack de la Rocha', 'Tim Commerford'), ('Zack de la Rocha', 'Richard Rodgers'), ('Zack de la Rocha', 'Oscar Hammerstein II'), ('Zack de la Rocha', 'David Sylvian'), ('Zack de la Rocha', 'Max Coppella'), ('Zack de la Rocha', 'Johan Ledoux'), ('Zack de la Rocha', 'Astrid Nijgh'), ('Zack de la Rocha', 'Lennaert Nijgh'), ('Zack de la Rocha', '林保徳'), ('Zack de la Rocha', 'Guillaume Ledoux'), ('Zack de la Rocha', 'Henri'), ('Zack de la Rocha', 'Ingo Hampf'), ('Zack de la Rocha', 'Jimmy Destri'), ('Zack de la Rocha', 'Mats Paulson'), ('Zack de la Rocha', 'French Thompson'), ('Zack de la Rocha', 'Jacob Portrait'), ('Zack de la Rocha', 'Michael Boden'), ('Zack de la Rocha', 'Colin Hay'), ('Zack de la Rocha', 'Zack de la Rocha'), ('Zack de la Rocha', 'Brad Wilk'), ('Zack de la Rocha', 'Imogen Heap'), ('Zack de la Rocha', 'Rob Hubbard')]\n",
    "ed2 = [('Spanish Caravan', ' John Densmore'),\n",
    " ('Spanish Caravan', ' Jim Morrison'),\n",
    " ('Spanish Caravan', ' Robby Krieger'),\n",
    " ('Spanish Caravan', ' Ray Manzarek'),\n",
    " ('1 John 4:16', ' John Darnielle'),\n",
    " ('Goddess (of the Sad Man)', ' Pasi Koskinen'),\n",
    " ('Goddess (of the Sad Man)', ' Amorphis'),\n",
    " ('來生緣', ' 胡偉立'),\n",
    " ('來生緣', ' 劉德華'),\n",
    " ('Still Wandering', ' Sieudiver'),\n",
    " ('The Night Is Over', ' Pasi Koskinen'),\n",
    " ('The Night Is Over', ' Amorphis'),\n",
    " ('I Had a Dream', ' Dennis Belfield'),\n",
    " ('I Had a Dream', ' Joey Carbone'),\n",
    " ('I Had a Dream', ' John Sebastian'),\n",
    " ('Fareweel Regality', ' Terry Conway'),\n",
    " ('Fool’s Errand', ' Robin Pecknold'),\n",
    " ('Carve My Name Into Your Chest', ' Patty Reece'),\n",
    " ('Carve My Name Into Your Chest', ' Izabelle Steele'),\n",
    " ('Carve My Name Into Your Chest', ' Pudjun'),\n",
    " ('Carve My Name Into Your Chest', ' Danyell DeVille'),\n",
    " ('GOOD LUCK MY WAY', ' HYDE'),\n",
    " ('GOOD LUCK MY WAY', ' TETSUYA'),\n",
    " ('Bulls on Parade', ' Zack de la Rocha'),\n",
    " ('Bulls on Parade', ' Tim Commerford'),\n",
    " ('Bulls on Parade', ' Tom Morello'),\n",
    " ('Bulls on Parade', ' Brad Wilk'),\n",
    " (\"Knock 'em Out\", ' Darren Lewis'),\n",
    " (\"Knock 'em Out\", ' Iyiola Babalola'),\n",
    " (\"Knock 'em Out\", ' Earl King'),\n",
    " (\"Knock 'em Out\", ' Lily Allen'),\n",
    " ('Honeysuckle', ' Stefano Musso'),\n",
    " ('1!2!3!4! ヨロシク!', ' 秋元康'),\n",
    " ('1!2!3!4! ヨロシク!', ' ツキダタダシ'),\n",
    " ('18', ' Lucy'),\n",
    " ('18', ' azu'),\n",
    " ('18', ' Moby'),\n",
    " ('Burning in Hell', ' Jeff Becerra'),\n",
    " ('Burning in Hell', ' Mike Torrao'),\n",
    " ('The Narcotic Suite: 3 Kilos', ' Liam Howlett'),\n",
    " (\"Το σ' αγαπώ δεν το λέω σε κανένα (Το σ' αγαπώ το κρατάω για σένα)\",\n",
    "  ' Τάκης Μουσαφίρης'),\n",
    " ('Γυρίζω τις πλάτες μου στο μέλλον', ' Διονύσης Τσακνής'),\n",
    " ('月光', ' 平田純子'),\n",
    " ('月光', ' HIRON'),\n",
    " ('月光', ' 鬼束ちひろ'),\n",
    " ('月光', ' Tatsh'),\n",
    " ('Sowing Season', ' Jesse Lacey'),\n",
    " ('Sowing Season', ' Vincent Accardi'),\n",
    " ('Propeller Seeds', ' Imogen Heap'),\n",
    " ('I hear you everywhere', ' かの香織'),\n",
    " ('Песня леди Джейн', ' Александр Зацепин'),\n",
    " ('Песня леди Джейн', ' Римма Казакова'),\n",
    " ('Песня леди Джейн', ' Леонид Дербенёв'),\n",
    " ('Στην υπόγα', ' Α. Κωστής'),\n",
    " ('Too Hot', ' Brian Leiser'),\n",
    " ('Too Hot', ' Ray Davies'),\n",
    " ('Too Hot', ' Leslie Howe'),\n",
    " ('Too Hot', ' Huey Morgan'),\n",
    " ('Too Hot', ' Alanis Morissette'),\n",
    " ('When the Laughter Is Over', ' Corinne Drewery'),\n",
    " ('When the Laughter Is Over', \" Paul Staveley O'Duffy\"),\n",
    " ('When the Laughter Is Over', ' Andy Connell'),\n",
    " ('Trust', ' Porl Thompson'),\n",
    " ('Trust', ' 彩音'),\n",
    " ('Trust', ' Jori Hulkkonen'),\n",
    " ('Trust', ' Perry Bamonte'),\n",
    " ('Trust', ' Simon Gallup'),\n",
    " ('Trust', ' 小室哲哉'),\n",
    " ('Trust', ' Juho Paalosmaa'),\n",
    " ('Trust', ' 清水達也'),\n",
    " ('Trust', ' Robert Smith'),\n",
    " ('Trust', ' Guano Apes'),\n",
    " ('Trust', ' Sandra Nasić'),\n",
    " ('Trust', ' Boris Williams'),\n",
    " ('Trust', ' BONNIE PINK'),\n",
    " ('Kölyköd voltam', ' Slamovits István'),\n",
    " ('Az utolsó magyar playboy 1.', ' Legát Tibor'),\n",
    " ('Az utolsó magyar playboy 1.', ' Tóth László'),\n",
    " ('L’Enterrement de Paul Fort', ' Koen De Cauter'),\n",
    " ('L’Enterrement de Paul Fort', ' Georges Brassens'),\n",
    " ('Bring Back My Happiness', ' Moby'),\n",
    " ('Eumenides', ' Daniel Copeman'),\n",
    " ('Eumenides', ' Thomas Fisher'),\n",
    " ('Eumenides', ' Rachel Davies'),\n",
    " ('Skeleton Swoon', ' Daniel Copeman'),\n",
    " ('Skeleton Swoon', ' Thomas Fisher'),\n",
    " ('Skeleton Swoon', ' Rachel Davies'),\n",
    " ('JUMP', ' 小室哲哉'),\n",
    " ('JUMP', ' 渡辺美里'),\n",
    " ('JUMP', ' 高見沢俊彦'),\n",
    " ('JUMP', ' つんく♂'),\n",
    " ('JUMP', ' 桑田佳祐'),\n",
    " ('Early in the Morning', ' Eric Clapton'),\n",
    " ('Early in the Morning', ' Louis Jordan'),\n",
    " ('Early in the Morning', ' Dallas Bartley'),\n",
    " ('Early in the Morning', ' Charlie Wilson'),\n",
    " ('Early in the Morning', ' [traditional]'),\n",
    " ('Early in the Morning', ' Lonnie Simmons'),\n",
    " ('Early in the Morning', ' Woody Harris'),\n",
    " ('Early in the Morning', ' Jimmy Page'),\n",
    " ('Early in the Morning', ' Rudy Taylor'),\n",
    " ('Early in the Morning', ' Bobby Darin'),\n",
    " ('Early in the Morning', ' Edward Seago'),\n",
    " ('Early in the Morning', ' Leo Hickman'),\n",
    " ('Early in the Morning', ' Mike Leander'),\n",
    " ('Precious', ' pal@pop'),\n",
    " ('Precious', ' Paul Weller'),\n",
    " ('Precious', ' Annie Lennox'),\n",
    " ('Precious', ' 長沼良'),\n",
    " ('Precious', ' 飯田建彦'),\n",
    " ('Precious', ' 漆野淳哉'),\n",
    " ('Precious', ' Martin L. Gore'),\n",
    " ('Precious', ' 恋-REN-'),\n",
    " ('NO‐NO‐YEAH / GO‐GO‐YEAH', ' 桑田佳祐'),\n",
    " ('大好きだよ', ' 若林充'),\n",
    " ('大好きだよ', ' 瀬名恵'),\n",
    " ('六等星の夜', ' aimerrhythm'),\n",
    " ('六等星の夜', ' 飛内将大'),\n",
    " ('La Nuit', ' S Petit Nico'),\n",
    " ('La Nuit', ' Thierry Sobézyk'),\n",
    " ('La Nuit', ' Adamo'),\n",
    " ('La Nuit', ' Pascale Macé'),\n",
    " ('La Nuit', ' Nicolas Stawski'),\n",
    " ('La Nuit', ' Philippe Planchon'),\n",
    " ('Watch You Bleed', ' Zoltan Bathory'),\n",
    " ('Watch You Bleed', ' Kevin Churko'),\n",
    " ('Watch You Bleed', ' Ivan Moody'),\n",
    " ('Watch You Bleed', ' Jeremy Spencer'),\n",
    " ('Watch You Bleed', ' Jason Hook'),\n",
    " ('Hate That I Love You', ' Mikkel Storleer Eriksen'),\n",
    " ('Hate That I Love You', ' Tor Erik Hermansen'),\n",
    " ('Hate That I Love You', ' Shaffer Chimere Smith'),\n",
    " ('stone cold', ' 梶浦由記'),\n",
    " ('The Becoming', ' Trent Reznor'),\n",
    " ('Драконография', ' Александр Зацепин'),\n",
    " ('Драконография', ' Римма Казакова'),\n",
    " ('Драконография', ' Леонид Дербенёв'),\n",
    " ('愛すべき未来へ', ' EXILE ATSUSHI'),\n",
    " ('愛すべき未来へ', ' 宅見将典'),\n",
    " ('(Die Frau hat) Rhythmus', ' Daniel \"Dän\" Dickopf'),\n",
    " ('LDN', ' Darren Lewis'),\n",
    " ('LDN', ' Iyiola Babalola'),\n",
    " ('LDN', ' Duke Reid'),\n",
    " ('LDN', ' Lily Allen'),\n",
    " (\"Love Won't Let You Down\", ' Corinne Drewery'),\n",
    " (\"Love Won't Let You Down\", \" Paul Staveley O'Duffy\"),\n",
    " (\"Love Won't Let You Down\", ' Andy Connell'),\n",
    " ('Money', ' Günter Schulz'),\n",
    " ('Money', ' Martin Sjølie'),\n",
    " ('Money', ' Sascha Konietzko'),\n",
    " ('Money', ' Brett Anderson'),\n",
    " ('Money', ' Ian Broudie'),\n",
    " ('Money', ' Maria Mena'),\n",
    " ('Money', ' Roger Waters'),\n",
    " ('Money', ' En Esch'),\n",
    " ('Money', ' Danyell DeVille'),\n",
    " ('Money', ' Billy Lunn'),\n",
    " ('Money', ' Richard Oakes'),\n",
    " ('Money', ' Dave Parsons'),\n",
    " ('Money', ' Jimmy Pursey'),\n",
    " ('Money', ' Ash Grunwald'),\n",
    " ('Money', ' The Subways'),\n",
    " ('Money', ' Pete Shelley'),\n",
    " ('TWO ROSES', ' 秋元康'),\n",
    " ('TWO ROSES', ' 大貫和紀'),\n",
    " ('Coast of Marseilles', ' Keith Sykes'),\n",
    " ('Le Gant', ' Koen De Cauter'),\n",
    " ('Le Gant', ' Sully Prudhomme'),\n",
    " ('Out in the Twilight', ' Rob Cantor'),\n",
    " ('Shatters Within', ' Pasi Koskinen'),\n",
    " ('Shatters Within', ' Amorphis'),\n",
    " ('A Minor Place', ' Will Oldham'),\n",
    " ('Circle the Drain', ' Christopher Stewart'),\n",
    " ('Circle the Drain', ' Lamont Neuble'),\n",
    " ('Circle the Drain', ' Katy Perry'),\n",
    " ('Millstone', ' Jesse Lacey'),\n",
    " ('君+謎+私でJUMP!!', ' 畑亜貴'),\n",
    " ('君+謎+私でJUMP!!', ' 高瀬一矢'),\n",
    " ('Never Meant to Know', ' Rob Cantor'),\n",
    " ('Tình đã phai', ' 胡偉立'),\n",
    " ('Чарльстон', ' Александр Зацепин'),\n",
    " ('Чарльстон', ' Римма Казакова'),\n",
    " ('Чарльстон', ' Леонид Дербенёв'),\n",
    " ('Stray Bullet', ' Huey Morgan'),\n",
    " ('Stray Bullet', ' Brian Leiser'),\n",
    " (\"(I Know) It's Just the Same\", ' Andrew Horowitz'),\n",
    " (\"Για να σ' εκδικηθώ\", ' Λάκης Παπαδόπουλος'),\n",
    " (\"Για να σ' εκδικηθώ\", ' Κυριάκος Ντούμος'),\n",
    " ('Doing the Unstuck', ' Porl Thompson'),\n",
    " ('Doing the Unstuck', ' Perry Bamonte'),\n",
    " ('Doing the Unstuck', ' Simon Gallup'),\n",
    " ('Doing the Unstuck', ' Robert Smith'),\n",
    " ('Doing the Unstuck', ' Boris Williams'),\n",
    " ('Innamorato', ' Stefano Musso'),\n",
    " (\"Κάν' τονε Σταύρο, κάν' τονε\", ' Μάρκος Βαμβακάρης'),\n",
    " ('Πέντε Έλληνες στον Άδη', ' Κώστας Μάνεσης'),\n",
    " ('Πέντε Έλληνες στον Άδη', ' Γιάννης Παπαϊωάννου'),\n",
    " ('The Night Has a Thousand Eyes', ' Buddy Bernier'),\n",
    " ('The Night Has a Thousand Eyes', ' Jerry Brainin'),\n",
    " ('Azóta mások a szerepek', ' Legát Tibor'),\n",
    " ('Azóta mások a szerepek', ' Tóth László'),\n",
    " ('She Said', ' Robin Proper-Sheppard'),\n",
    " ('She Said', ' Ed Roland'),\n",
    " ('She Said', ' Holly Golightly'),\n",
    " ('She Said', ' Jérôme Avril'),\n",
    " ('She Said', ' Ron Austin'),\n",
    " ('She Said', ' Ben Drew'),\n",
    " ('She Said', ' Christian Kolonovits'),\n",
    " ('She Said', ' Jimmy Fernandez'),\n",
    " ('She Said', ' Crispin Hunt'),\n",
    " ('She Said', ' Klaus Meine'),\n",
    " ('CESTREE', ' かの香織'),\n",
    " ('Uptown Blues', ' Jimmie Lunceford'),\n",
    " ('バレンタイン・キッス', ' 秋元康'),\n",
    " ('バレンタイン・キッス', ' 瀬井広明'),\n",
    " ('Ζωή νταλίκα κόκκινη', ' Σταμάτης Κραουνάκης'),\n",
    " (\"Everything's Just Wonderful\", ' Greg Kurstin'),\n",
    " (\"Everything's Just Wonderful\", ' Lily Allen'),\n",
    " ('Where Our Love Grows', ' Corinne Drewery'),\n",
    " ('Where Our Love Grows', \" Paul Staveley O'Duffy\"),\n",
    " ('Where Our Love Grows', ' Andy Connell'),\n",
    " ('Meet the Creeper', ' Rob Zombie'),\n",
    " ('Meet the Creeper', ' Scott Humphrey'),\n",
    " ('Never Love Anything', ' Izabelle Steele'),\n",
    " ('Never Love Anything', ' Danyell DeVille'),\n",
    " ('The Last Line', ' Keith Sykes'),\n",
    " ('Sawdust in the Blood', ' Rob Zombie'),\n",
    " ('Sawdust in the Blood', ' John 5'),\n",
    " ('Sawdust in the Blood', ' Scott Humphrey'),\n",
    " ('Rumore', ' Guido Maria Ferilli'),\n",
    " ('Rumore', ' Andrea Lo Vecchio'),\n",
    " ('you are my love', ' 梶浦由記'),\n",
    " ('Brand-new Sky', ' pal@pop'),\n",
    " ('Dark Lady', ' Uli Jon Roth'),\n",
    " ('Virtual Friend', ' Benno de Goeij'),\n",
    " ('Virtual Friend', ' Armin van Buuren'),\n",
    " ('Virtual Friend', ' Guy Chambers'),\n",
    " ('Drugs Party in 526', ' Colin Abrahall'),\n",
    " ('Drugs Party in 526', ' Colin Blyth'),\n",
    " ('Drugs Party in 526', ' Ross Lomas'),\n",
    " ('Drugs Party in 526', ' Andrew Williams'),\n",
    " ('As Tears Go By', ' Mick Jagger'),\n",
    " ('As Tears Go By', ' Andrew Loog Oldham'),\n",
    " ('As Tears Go By', ' Keith Richards'),\n",
    " ('GORILLA', ' Linda Omori'),\n",
    " ('GORILLA', ' 大森隆志'),\n",
    " ('Bite Until You Taste Blood', ' Claus Larsen'),\n",
    " ('Blackjack Davey', ' Mike Seeger'),\n",
    " ('Blackjack Davey', ' [traditional]'),\n",
    " ('Blackjack Davey', ' Bob Dylan'),\n",
    " ('Blackjack Davey', ' Woody Guthrie')]\n",
    "\n",
    "ed3 = [('Spanish Caravan', ' John Densmore'),\n",
    " ('Spanish Caravan', ' Ray Manzarek'),\n",
    " ('Spanish Caravan', ' Jim Morrison'),\n",
    " ('Spanish Caravan', ' Robby Krieger'),\n",
    " ('1 John 4:16', ' John Darnielle'),\n",
    " ('Goddess (of the Sad Man)', ' Pasi Koskinen'),\n",
    " ('Goddess (of the Sad Man)', ' Amorphis'),\n",
    " ('來生緣', ' 胡偉立'),\n",
    " ('來生緣', ' 劉德華'),\n",
    " ('Still Wandering', ' Sieudiver'),\n",
    " ('The Night Is Over', ' Pasi Koskinen'),\n",
    " ('The Night Is Over', ' Amorphis'),\n",
    " ('I Had a Dream', ' John Sebastian'),\n",
    " ('I Had a Dream', ' Dennis Belfield'),\n",
    " ('I Had a Dream', ' Joey Carbone'),\n",
    " ('Fareweel Regality', ' Terry Conway'),\n",
    " ('Fool’s Errand', ' Robin Pecknold')]"
   ]
  },
  {
   "cell_type": "code",
   "execution_count": 13,
   "metadata": {},
   "outputs": [],
   "source": [
    "import networkx as nx\n",
    "import matplotlib.pyplot as plt\n",
    "\n",
    "graph = nx.MultiDiGraph()\n",
    "\n",
    "\n",
    "for work in works[:10]:\n",
    "    for tit in get_list_titular(work['title']):\n",
    "        graph.add_nodes_from(str(tit).split('  '))\n",
    "#         graph.add_nodes_from(work['title'])\n",
    "        tmp = tuple(get_list_titular(work['title']))\n",
    "#         print(tmp)\n",
    "        graph.add_edges_from(ed2)   \n",
    "\n",
    "# plt.subplot(121)\n",
    "# nx.draw(graph, with_labels=True, font_weight='bold')\n",
    "\n",
    "# plt.subplot(122)\n",
    "nx.draw(graph, with_labels=True)  \n"
   ]
  },
  {
   "cell_type": "code",
   "execution_count": 121,
   "metadata": {},
   "outputs": [],
   "source": [
    "def flatten_edges(master_graph):\n",
    "    for source, targets in master_graph.adjacency():\n",
    "        for target, rels in targets.items():\n",
    "            for rel_data in rels.values():                \n",
    "                yield (source, target, rel_data)"
   ]
  },
  {
   "cell_type": "code",
   "execution_count": 122,
   "metadata": {},
   "outputs": [],
   "source": [
    "def extract_recorded_graph(master_graph):\n",
    "    graph = nx.Graph()    \n",
    "    graph.add_nodes_from(master_graph.nodes())\n",
    "    \n",
    "    flatten = flatten_edges(master_graph)\n",
    "    for source, target, rel_data in flatten:\n",
    "        graph.add_edge(source, target, **rel_data)\n",
    "    \n",
    "    return graph    "
   ]
  },
  {
   "cell_type": "code",
   "execution_count": 123,
   "metadata": {},
   "outputs": [],
   "source": [
    "def extract_played_with_graph(master_graph):\n",
    "    graph = nx.Graph()\n",
    "    \n",
    "    for n, data in master_graph.nodes(data=True):\n",
    "        graph.add_node(n, **data)\n",
    " \n",
    "    flatten = flatten_edges(master_graph) \n",
    "    for source, target, data in flatten:                \n",
    "        \n",
    "        if not graph.has_edge(source, target):\n",
    "            graph.add_edge(source, target, weight=0, **data)\n",
    "        graph.edges[(source, target)]['weight'] += 1\n",
    "\n",
    "    return graph"
   ]
  },
  {
   "cell_type": "code",
   "execution_count": 124,
   "metadata": {},
   "outputs": [
    {
     "name": "stdout",
     "output_type": "stream",
     "text": [
      "\n"
     ]
    }
   ],
   "source": [
    "played_with_graph = extract_played_with_graph(master_graph)\n",
    "print(played_with_graph)"
   ]
  },
  {
   "cell_type": "code",
   "execution_count": 155,
   "metadata": {},
   "outputs": [],
   "source": [
    "def top_10_recorders(recorded_graph, master_graph):\n",
    "    centralities = nx.degree_centrality(recorded_graph)\n",
    "#     is_musician = lambda n: master_graph.node[n]['type'] == 'composer'\n",
    "    sorted_centralities = sorted(centralities, key=centralities.get, reverse=True)\n",
    "#     sorted_nodes = [n for n in sorted_centralities if is_musician(n)]\n",
    "    sorted_nodes = [n for n in sorted_centralities]\n",
    "    return sorted_nodes[:10], centralities"
   ]
  },
  {
   "cell_type": "code",
   "execution_count": 18,
   "metadata": {},
   "outputs": [],
   "source": [
    "def top_10_prolifc_musicians(played_with_graph, master_graph):\n",
    "    centralities = nx.eigenvector_centrality(played_with_graph, weight='weight')\n",
    "    sorted_centralities = sorted(centralities, key=centralities.get, reverse=True)\n",
    "    return sorted_centralities[:10], centralities"
   ]
  },
  {
   "cell_type": "code",
   "execution_count": 158,
   "metadata": {},
   "outputs": [],
   "source": [
    "def top_10_albuns(recorded_graph, master_graph):\n",
    "    centralities = nx.eigenvector_centrality(recorded_graph)\n",
    "#     is_album = lambda n: master_graph.node[n]['type'] == 'RELEASE'\n",
    "    sorted_centralities = sorted(centralities, key=centralities.get, reverse=True)\n",
    "#     sorted_nodes = [n for n in sorted_centralities if is_album(n)]\n",
    "    sorted_nodes = [n for n in sorted_centralities]\n",
    "    return sorted_nodes[:10], centralities"
   ]
  },
  {
   "cell_type": "code",
   "execution_count": 151,
   "metadata": {},
   "outputs": [
    {
     "data": {
      "image/png": "[encoded data removed]",
      "text/plain": [
       "<Figure size 432x288 with 1 Axes>"
      ]
     },
     "metadata": {},
     "output_type": "display_data"
    }
   ],
   "source": [
    "master_graph = nx.MultiDiGraph()\n",
    "list_edges = []\n",
    "\n",
    "for work in works[:20]:\n",
    "    master_graph.add_nodes_from(str(work['title']).split('  '))    \n",
    "    for tit in get_list_titular(work['title']):             \n",
    "        list_edges.append(tuple(str(work['title'] +'   '+  tit ).split('  ')))                \n",
    "master_graph.add_edges_from(list_edges)   \n",
    "\n",
    "nx.draw(master_graph, with_labels=True)\n",
    "# plt.show()"
   ]
  },
  {
   "cell_type": "code",
   "execution_count": 21,
   "metadata": {},
   "outputs": [
    {
     "data": {
      "text/plain": [
       "[('Spanish Caravan', ' Jim Morrison'),\n",
       " ('Spanish Caravan', ' Ray Manzarek'),\n",
       " ('Spanish Caravan', ' Robby Krieger'),\n",
       " ('Spanish Caravan', ' John Densmore'),\n",
       " ('1 John 4:16', ' John Darnielle'),\n",
       " ('Goddess (of the Sad Man)', ' Amorphis'),\n",
       " ('Goddess (of the Sad Man)', ' Pasi Koskinen'),\n",
       " ('來生緣', ' 劉德華'),\n",
       " ('來生緣', ' 胡偉立'),\n",
       " ('Still Wandering', ' Sieudiver'),\n",
       " ('The Night Is Over', ' Amorphis'),\n",
       " ('The Night Is Over', ' Pasi Koskinen'),\n",
       " ('I Had a Dream', ' Joey Carbone'),\n",
       " ('I Had a Dream', ' Dennis Belfield'),\n",
       " ('I Had a Dream', ' John Sebastian'),\n",
       " ('Fareweel Regality', ' Terry Conway'),\n",
       " ('Fool’s Errand', ' Robin Pecknold')]"
      ]
     },
     "execution_count": 21,
     "metadata": {},
     "output_type": "execute_result"
    }
   ],
   "source": [
    "list_work_arts = []\n",
    "for work in works[:10]:    \n",
    "    for art in get_list_titular(work['title']):\n",
    "        list_work_arts.append(tuple(str(work['title'] +'   '+  art ).split('  ')))\n",
    "list_work_arts    \n",
    "    \n",
    "    "
   ]
  },
  {
   "cell_type": "code",
   "execution_count": 149,
   "metadata": {},
   "outputs": [
    {
     "data": {
      "text/plain": [
       "NodeDataView({'Spanish Caravan': {}, 'Feel the Street': {}, '1 John 4:16': {}, 'Goddess (of the Sad Man)': {}, '來生緣': {}, 'Still Wandering': {}, 'The Night Is Over': {}, 'I Had a Dream': {}, 'Fareweel Regality': {}, 'Fool’s Errand': {}, 'Carve My Name Into Your Chest': {}, 'GOOD LUCK MY WAY': {}, 'Bulls on Parade': {}, \"Knock 'em Out\": {}, 'Honeysuckle': {}, '1!2!3!4! ヨロシク!': {}, '18': {}, 'Burning in Hell': {}, 'The Narcotic Suite: 3 Kilos': {}, ' Jim Morrison': {}, ' Ray Manzarek': {}, ' Robby Krieger': {}, ' John Densmore': {}, ' John Darnielle': {}, ' Amorphis': {}, ' Pasi Koskinen': {}, ' 劉德華': {}, ' 胡偉立': {}, ' Sieudiver': {}, ' Joey Carbone': {}, ' Dennis Belfield': {}, ' John Sebastian': {}, ' Terry Conway': {}, ' Robin Pecknold': {}, ' Danyell DeVille': {}, ' Izabelle Steele': {}, ' Pudjun': {}, ' Patty Reece': {}, ' HYDE': {}, ' TETSUYA': {}, ' Brad Wilk': {}, ' Tim Commerford': {}, ' Zack de la Rocha': {}, ' Tom Morello': {}, ' Earl King': {}, ' Lily Allen': {}, ' Iyiola Babalola': {}, ' Darren Lewis': {}, ' Stefano Musso': {}, ' ツキダタダシ': {}, ' 秋元康': {}, ' Lucy': {}, ' Moby': {}, ' azu': {}, ' Mike Torrao': {}, ' Jeff Becerra': {}, ' Liam Howlett': {}})"
      ]
     },
     "execution_count": 149,
     "metadata": {},
     "output_type": "execute_result"
    }
   ],
   "source": [
    "master_graph.nodes(data=True)"
   ]
  },
  {
   "cell_type": "code",
   "execution_count": 150,
   "metadata": {},
   "outputs": [
    {
     "data": {
      "text/plain": [
       "57"
      ]
     },
     "execution_count": 150,
     "metadata": {},
     "output_type": "execute_result"
    }
   ],
   "source": [
    "len(master_graph.edges())\n",
    "len(master_graph.node())"
   ]
  },
  {
   "cell_type": "code",
   "execution_count": 24,
   "metadata": {},
   "outputs": [
    {
     "data": {
      "text/plain": [
       "OutMultiEdgeDataView([('Spanish Caravan', ' Jim Morrison'), ('Spanish Caravan', ' Ray Manzarek'), ('Spanish Caravan', ' Robby Krieger'), ('Spanish Caravan', ' John Densmore'), ('1 John 4:16', ' John Darnielle'), ('Goddess (of the Sad Man)', ' Amorphis'), ('Goddess (of the Sad Man)', ' Pasi Koskinen'), ('來生緣', ' 劉德華'), ('來生緣', ' 胡偉立'), ('Still Wandering', ' Sieudiver'), ('The Night Is Over', ' Amorphis'), ('The Night Is Over', ' Pasi Koskinen'), ('I Had a Dream', ' Joey Carbone'), ('I Had a Dream', ' Dennis Belfield'), ('I Had a Dream', ' John Sebastian'), ('Fareweel Regality', ' Terry Conway'), ('Fool’s Errand', ' Robin Pecknold'), ('Carve My Name Into Your Chest', ' Danyell DeVille'), ('Carve My Name Into Your Chest', ' Izabelle Steele'), ('Carve My Name Into Your Chest', ' Pudjun'), ('Carve My Name Into Your Chest', ' Patty Reece'), ('GOOD LUCK MY WAY', ' HYDE'), ('GOOD LUCK MY WAY', ' TETSUYA'), ('Bulls on Parade', ' Brad Wilk'), ('Bulls on Parade', ' Tim Commerford'), ('Bulls on Parade', ' Zack de la Rocha'), ('Bulls on Parade', ' Tom Morello'), (\"Knock 'em Out\", ' Earl King'), (\"Knock 'em Out\", ' Lily Allen'), (\"Knock 'em Out\", ' Iyiola Babalola'), (\"Knock 'em Out\", ' Darren Lewis'), ('Honeysuckle', ' Stefano Musso'), ('1!2!3!4! ヨロシク!', ' ツキダタダシ'), ('1!2!3!4! ヨロシク!', ' 秋元康'), ('18', ' Lucy'), ('18', ' Moby'), ('18', ' azu'), ('Burning in Hell', ' Mike Torrao'), ('Burning in Hell', ' Jeff Becerra'), ('The Narcotic Suite: 3 Kilos', ' Liam Howlett')])"
      ]
     },
     "execution_count": 24,
     "metadata": {},
     "output_type": "execute_result"
    }
   ],
   "source": [
    "master_graph.edges()"
   ]
  },
  {
   "cell_type": "code",
   "execution_count": 65,
   "metadata": {},
   "outputs": [],
   "source": [
    "recorded_graph = extract_recorded_graph(master_graph)"
   ]
  },
  {
   "cell_type": "code",
   "execution_count": 152,
   "metadata": {},
   "outputs": [
    {
     "name": "stdout",
     "output_type": "stream",
     "text": [
      "\n"
     ]
    }
   ],
   "source": [
    "played_with_graph = extract_played_with_graph(master_graph)\n",
    "print(played_with_graph)"
   ]
  },
  {
   "cell_type": "code",
   "execution_count": 161,
   "metadata": {},
   "outputs": [
    {
     "name": "stdout",
     "output_type": "stream",
     "text": [
      "{'Spanish Caravan': 0.07142857142857142, 'Feel the Street': 0.0, '1 John 4:16': 0.017857142857142856, 'Goddess (of the Sad Man)': 0.03571428571428571, '來生緣': 0.03571428571428571, 'Still Wandering': 0.017857142857142856, 'The Night Is Over': 0.03571428571428571, 'I Had a Dream': 0.05357142857142857, 'Fareweel Regality': 0.017857142857142856, 'Fool’s Errand': 0.017857142857142856, 'Carve My Name Into Your Chest': 0.07142857142857142, 'GOOD LUCK MY WAY': 0.03571428571428571, 'Bulls on Parade': 0.07142857142857142, \"Knock 'em Out\": 0.07142857142857142, 'Honeysuckle': 0.017857142857142856, '1!2!3!4! ヨロシク!': 0.03571428571428571, '18': 0.05357142857142857, 'Burning in Hell': 0.03571428571428571, 'The Narcotic Suite: 3 Kilos': 0.017857142857142856, ' Jim Morrison': 0.017857142857142856, ' Ray Manzarek': 0.017857142857142856, ' Robby Krieger': 0.017857142857142856, ' John Densmore': 0.017857142857142856, ' John Darnielle': 0.017857142857142856, ' Amorphis': 0.03571428571428571, ' Pasi Koskinen': 0.03571428571428571, ' 劉德華': 0.017857142857142856, ' 胡偉立': 0.017857142857142856, ' Sieudiver': 0.017857142857142856, ' Joey Carbone': 0.017857142857142856, ' Dennis Belfield': 0.017857142857142856, ' John Sebastian': 0.017857142857142856, ' Terry Conway': 0.017857142857142856, ' Robin Pecknold': 0.017857142857142856, ' Danyell DeVille': 0.017857142857142856, ' Izabelle Steele': 0.017857142857142856, ' Pudjun': 0.017857142857142856, ' Patty Reece': 0.017857142857142856, ' HYDE': 0.017857142857142856, ' TETSUYA': 0.017857142857142856, ' Brad Wilk': 0.017857142857142856, ' Tim Commerford': 0.017857142857142856, ' Zack de la Rocha': 0.017857142857142856, ' Tom Morello': 0.017857142857142856, ' Earl King': 0.017857142857142856, ' Lily Allen': 0.017857142857142856, ' Iyiola Babalola': 0.017857142857142856, ' Darren Lewis': 0.017857142857142856, ' Stefano Musso': 0.017857142857142856, ' ツキダタダシ': 0.017857142857142856, ' 秋元康': 0.017857142857142856, ' Lucy': 0.017857142857142856, ' Moby': 0.017857142857142856, ' azu': 0.017857142857142856, ' Mike Torrao': 0.017857142857142856, ' Jeff Becerra': 0.017857142857142856, ' Liam Howlett': 0.017857142857142856}\n"
     ]
    }
   ],
   "source": [
    "top_10, degrees = top_10_recorders(master_graph, graph)\n",
    "print(degrees)"
   ]
  },
  {
   "cell_type": "code",
   "execution_count": 167,
   "metadata": {},
   "outputs": [
    {
     "name": "stdout",
     "output_type": "stream",
     "text": [
      "\u001b[33m##### Top 10 Prolific Musicians\u001b[0m\n",
      "Spanish Caravan\n",
      "Carve My Name Into Your Chest\n",
      "Bulls on Parade\n",
      "Knock 'em Out\n",
      "I Had a Dream\n",
      "18\n",
      "Goddess (of the Sad Man)\n",
      "來生緣\n",
      "The Night Is Over\n",
      "GOOD LUCK MY WAY\n"
     ]
    }
   ],
   "source": [
    "cprint(\"##### Top 10 Prolific Musicians\", 'yellow')\n",
    "for i, node in enumerate(top_10[:10]):\n",
    "#     data = graph.node[node]    \n",
    "#     cprint(\"{}) {} / score: {}\".format(i + 1, '{} - {}'.format(data['name'], instruments), side[node]), 'white')\n",
    "#     cprint(\"{}) {} / score: {}\".format(i + 1, '{} - {}'.format(data), side[node]), 'white')\n",
    "    print(node)\n",
    "    "
   ]
  },
  {
   "cell_type": "code",
   "execution_count": null,
   "metadata": {},
   "outputs": [],
   "source": []
  },
  {
   "cell_type": "code",
   "execution_count": null,
   "metadata": {},
   "outputs": [],
   "source": []
  }
 ],
 "metadata": {
  "kernelspec": {
   "display_name": "Python 3",
   "language": "python",
   "name": "python3"
  },
  "language_info": {
   "codemirror_mode": {
    "name": "ipython",
    "version": 3
   },
   "file_extension": ".py",
   "mimetype": "text/x-python",
   "name": "python",
   "nbconvert_exporter": "python",
   "pygments_lexer": "ipython3",
   "version": "3.7.2"
  }
 },
 "nbformat": 4,
 "nbformat_minor": 2
}
