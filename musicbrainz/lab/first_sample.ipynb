{
 "cells": [
  {
   "cell_type": "markdown",
   "metadata": {},
   "source": [
    "### Primeiros testes com o grafos"
   ]
  },
  {
   "cell_type": "code",
   "execution_count": 1,
   "metadata": {},
   "outputs": [],
   "source": [
    "import os, sys\n",
    "import json\n",
    "import random\n",
    "from termcolor import cprint\n",
    "import networkx as nx"
   ]
  },
  {
   "cell_type": "code",
   "execution_count": 2,
   "metadata": {
    "scrolled": true
   },
   "outputs": [],
   "source": [
    "files = os.listdir('files')\n",
    "colors = ['red', 'green', 'cyan', 'magenta', 'blue']\n",
    "works = []"
   ]
  },
  {
   "cell_type": "code",
   "execution_count": 3,
   "metadata": {},
   "outputs": [
    {
     "name": "stdout",
     "output_type": "stream",
     "text": [
      "<_io.TextIOWrapper name='files/d8b62b31-22f7-4b63-af52-c5aea6715265.json' mode='r' encoding='UTF-8'>\n",
      "(<class 'json.decoder.JSONDecodeError'>, JSONDecodeError('Expecting value: line 1 column 1 (char 0)'), <traceback object at 0x7f219e01e748>)\n",
      "<_io.TextIOWrapper name='files/82095e26-0e4d-4334-ae72-d75a68b525da.json' mode='r' encoding='UTF-8'>\n",
      "(<class 'json.decoder.JSONDecodeError'>, JSONDecodeError('Expecting value: line 1 column 1 (char 0)'), <traceback object at 0x7f219e01eb88>)\n",
      "<_io.TextIOWrapper name='files/b88424d9-8787-4833-9d33-2f4b0dbcf8e7.json' mode='r' encoding='UTF-8'>\n",
      "(<class 'json.decoder.JSONDecodeError'>, JSONDecodeError('Expecting value: line 1 column 1 (char 0)'), <traceback object at 0x7f219e01ebc8>)\n",
      "<_io.TextIOWrapper name='files/a729f265-1c07-4094-ae89-cb17f8111359.json' mode='r' encoding='UTF-8'>\n",
      "(<class 'json.decoder.JSONDecodeError'>, JSONDecodeError('Expecting value: line 1 column 1 (char 0)'), <traceback object at 0x7f219e01eb08>)\n",
      "<_io.TextIOWrapper name='files/5ba8a183-cf2b-4b46-adfc-a28e93e86033.json' mode='r' encoding='UTF-8'>\n",
      "(<class 'json.decoder.JSONDecodeError'>, JSONDecodeError('Expecting value: line 1 column 1 (char 0)'), <traceback object at 0x7f219e01eb88>)\n",
      "<_io.TextIOWrapper name='files/1db092db-c894-4c5e-a43e-6962340ae050.json' mode='r' encoding='UTF-8'>\n",
      "(<class 'json.decoder.JSONDecodeError'>, JSONDecodeError('Expecting value: line 1 column 1 (char 0)'), <traceback object at 0x7f219e01eb08>)\n",
      "<_io.TextIOWrapper name='files/fae74592-3f05-4851-b909-f2a9b7c47064.json' mode='r' encoding='UTF-8'>\n",
      "(<class 'json.decoder.JSONDecodeError'>, JSONDecodeError('Expecting value: line 1 column 1 (char 0)'), <traceback object at 0x7f219e01eb88>)\n",
      "<_io.TextIOWrapper name='files/1ce66959-bf16-4b20-bc05-a60b78ffa46d.json' mode='r' encoding='UTF-8'>\n",
      "(<class 'json.decoder.JSONDecodeError'>, JSONDecodeError('Expecting value: line 1 column 1 (char 0)'), <traceback object at 0x7f219e01eb08>)\n",
      "<_io.TextIOWrapper name='files/53b1c166-76b6-4589-8afe-d34b96e5b772.json' mode='r' encoding='UTF-8'>\n",
      "(<class 'json.decoder.JSONDecodeError'>, JSONDecodeError('Expecting value: line 1 column 1 (char 0)'), <traceback object at 0x7f219e01eb88>)\n",
      "<_io.TextIOWrapper name='files/00044b4d-77d7-49b3-a64e-60c53076fc01.json' mode='r' encoding='UTF-8'>\n",
      "(<class 'json.decoder.JSONDecodeError'>, JSONDecodeError('Expecting value: line 1 column 1 (char 0)'), <traceback object at 0x7f219e01eb08>)\n",
      "<_io.TextIOWrapper name='files/a896b17c-496b-4cbf-852d-7aef23c81b8d.json' mode='r' encoding='UTF-8'>\n",
      "(<class 'json.decoder.JSONDecodeError'>, JSONDecodeError('Expecting value: line 1 column 1 (char 0)'), <traceback object at 0x7f219e01eb88>)\n",
      "<_io.TextIOWrapper name='files/2ca21bdf-ab51-45ae-a3c8-de372c25c414.json' mode='r' encoding='UTF-8'>\n",
      "(<class 'json.decoder.JSONDecodeError'>, JSONDecodeError('Expecting value: line 1 column 1 (char 0)'), <traceback object at 0x7f219e01eb08>)\n",
      "<_io.TextIOWrapper name='files/13a27fc1-6292-4463-b244-6911f524124b.json' mode='r' encoding='UTF-8'>\n",
      "(<class 'json.decoder.JSONDecodeError'>, JSONDecodeError('Expecting value: line 1 column 1 (char 0)'), <traceback object at 0x7f219e01eb88>)\n",
      "<_io.TextIOWrapper name='files/e5499755-37de-4589-8cfc-91ad482df337.json' mode='r' encoding='UTF-8'>\n",
      "(<class 'json.decoder.JSONDecodeError'>, JSONDecodeError('Expecting value: line 1 column 1 (char 0)'), <traceback object at 0x7f219e01eb08>)\n",
      "<_io.TextIOWrapper name='files/0a25c147-4bab-4786-9173-6cafec513bdd.json' mode='r' encoding='UTF-8'>\n",
      "(<class 'json.decoder.JSONDecodeError'>, JSONDecodeError('Expecting value: line 1 column 1 (char 0)'), <traceback object at 0x7f219e01eb88>)\n",
      "<_io.TextIOWrapper name='files/8f249be1-eadf-4a39-8e58-bcb1f1eb2b07.json' mode='r' encoding='UTF-8'>\n",
      "(<class 'json.decoder.JSONDecodeError'>, JSONDecodeError('Expecting value: line 1 column 1 (char 0)'), <traceback object at 0x7f219e01eb08>)\n",
      "<_io.TextIOWrapper name='files/4da14550-c900-462d-8604-e459ed8bfe66.json' mode='r' encoding='UTF-8'>\n",
      "(<class 'json.decoder.JSONDecodeError'>, JSONDecodeError('Expecting value: line 1 column 1 (char 0)'), <traceback object at 0x7f219e01eb88>)\n",
      "<_io.TextIOWrapper name='files/3554aae1-b0b0-4351-a459-f93502145f18.json' mode='r' encoding='UTF-8'>\n",
      "(<class 'json.decoder.JSONDecodeError'>, JSONDecodeError('Expecting value: line 1 column 1 (char 0)'), <traceback object at 0x7f219e01eb08>)\n",
      "<_io.TextIOWrapper name='files/c59e1fe2-4a95-4c05-a9d9-a0341ec83bb8.json' mode='r' encoding='UTF-8'>\n",
      "(<class 'json.decoder.JSONDecodeError'>, JSONDecodeError('Expecting value: line 1 column 1 (char 0)'), <traceback object at 0x7f219e01eb88>)\n",
      "<_io.TextIOWrapper name='files/993c0986-7140-4f4f-a740-c0ae9aecc7fe.json' mode='r' encoding='UTF-8'>\n",
      "(<class 'json.decoder.JSONDecodeError'>, JSONDecodeError('Expecting value: line 1 column 1 (char 0)'), <traceback object at 0x7f219e01eb08>)\n",
      "<_io.TextIOWrapper name='files/f3bddd06-02a5-46ea-9638-581fa07ecb15.json' mode='r' encoding='UTF-8'>\n",
      "(<class 'json.decoder.JSONDecodeError'>, JSONDecodeError('Expecting value: line 1 column 1 (char 0)'), <traceback object at 0x7f219e01eb88>)\n",
      "<_io.TextIOWrapper name='files/f5862f3f-855d-4ae3-9c40-e1b060aa97e1.json' mode='r' encoding='UTF-8'>\n",
      "(<class 'json.decoder.JSONDecodeError'>, JSONDecodeError('Expecting value: line 1 column 1 (char 0)'), <traceback object at 0x7f219e01eb08>)\n",
      "<_io.TextIOWrapper name='files/e3496f93-cf21-429a-81cc-89cd183a869c.json' mode='r' encoding='UTF-8'>\n",
      "(<class 'json.decoder.JSONDecodeError'>, JSONDecodeError('Expecting value: line 1 column 1 (char 0)'), <traceback object at 0x7f219e01eb88>)\n",
      "<_io.TextIOWrapper name='files/2a948f28-d5b6-3303-806b-d8ef901127aa.json' mode='r' encoding='UTF-8'>\n",
      "(<class 'json.decoder.JSONDecodeError'>, JSONDecodeError('Expecting value: line 1 column 1 (char 0)'), <traceback object at 0x7f219e01eb08>)\n",
      "<_io.TextIOWrapper name='files/6b3bbd5a-0b4e-365e-bde1-d3eceaad9d5e.json' mode='r' encoding='UTF-8'>\n",
      "(<class 'json.decoder.JSONDecodeError'>, JSONDecodeError('Expecting value: line 1 column 1 (char 0)'), <traceback object at 0x7f219e01eb88>)\n",
      "<_io.TextIOWrapper name='files/6c516b2c-7134-39b1-8f84-4bbb46ed593c.json' mode='r' encoding='UTF-8'>\n",
      "(<class 'json.decoder.JSONDecodeError'>, JSONDecodeError('Expecting value: line 1 column 1 (char 0)'), <traceback object at 0x7f219e01eb08>)\n",
      "<_io.TextIOWrapper name='files/2804111f-4b57-4387-8b1b-1e6c76e6769c.json' mode='r' encoding='UTF-8'>\n",
      "(<class 'json.decoder.JSONDecodeError'>, JSONDecodeError('Expecting value: line 1 column 1 (char 0)'), <traceback object at 0x7f219e01eb88>)\n",
      "<_io.TextIOWrapper name='files/54251b3e-630d-4f90-b47c-62390b90c61e.json' mode='r' encoding='UTF-8'>\n",
      "(<class 'json.decoder.JSONDecodeError'>, JSONDecodeError('Expecting value: line 1 column 1 (char 0)'), <traceback object at 0x7f219e01eb08>)\n",
      "<_io.TextIOWrapper name='files/ea2d6fcf-0d32-3e65-9fd1-e9fd5006320f.json' mode='r' encoding='UTF-8'>\n",
      "(<class 'json.decoder.JSONDecodeError'>, JSONDecodeError('Expecting value: line 1 column 1 (char 0)'), <traceback object at 0x7f219e01eb88>)\n",
      "<_io.TextIOWrapper name='files/5757fff7-068f-3328-8eb0-cb427891e0cd.json' mode='r' encoding='UTF-8'>\n",
      "(<class 'json.decoder.JSONDecodeError'>, JSONDecodeError('Expecting value: line 1 column 1 (char 0)'), <traceback object at 0x7f219e01eb08>)\n",
      "<_io.TextIOWrapper name='files/aba53d8f-952c-4905-8aae-05c2405e0b04.json' mode='r' encoding='UTF-8'>\n",
      "(<class 'json.decoder.JSONDecodeError'>, JSONDecodeError('Expecting value: line 1 column 1 (char 0)'), <traceback object at 0x7f219e01eb88>)\n",
      "<_io.TextIOWrapper name='files/d355603c-cff4-451e-bcc5-decefcb8c9c8.json' mode='r' encoding='UTF-8'>\n",
      "(<class 'json.decoder.JSONDecodeError'>, JSONDecodeError('Expecting value: line 1 column 1 (char 0)'), <traceback object at 0x7f219e01eb08>)\n",
      "<_io.TextIOWrapper name='files/07f66e77-96e9-44a4-86c5-2648c30b388d.json' mode='r' encoding='UTF-8'>\n",
      "(<class 'json.decoder.JSONDecodeError'>, JSONDecodeError('Expecting value: line 1 column 1 (char 0)'), <traceback object at 0x7f219e01eb88>)\n",
      "<_io.TextIOWrapper name='files/220b07d0-f811-33af-b894-53dd025cbee9.json' mode='r' encoding='UTF-8'>\n",
      "(<class 'json.decoder.JSONDecodeError'>, JSONDecodeError('Expecting value: line 1 column 1 (char 0)'), <traceback object at 0x7f219e01eb08>)\n",
      "<_io.TextIOWrapper name='files/5bd52222-6fe7-44f0-9e79-e1318dc6068e.json' mode='r' encoding='UTF-8'>\n",
      "(<class 'json.decoder.JSONDecodeError'>, JSONDecodeError('Expecting value: line 1 column 1 (char 0)'), <traceback object at 0x7f219e01eb88>)\n",
      "<_io.TextIOWrapper name='files/3d1a4944-3fbe-45ef-a20f-c8eb0b463ff1.json' mode='r' encoding='UTF-8'>\n",
      "(<class 'json.decoder.JSONDecodeError'>, JSONDecodeError('Expecting value: line 1 column 1 (char 0)'), <traceback object at 0x7f219e01eb08>)\n",
      "<_io.TextIOWrapper name='files/a08efffd-410f-3979-89c6-86222d53884f.json' mode='r' encoding='UTF-8'>\n",
      "(<class 'json.decoder.JSONDecodeError'>, JSONDecodeError('Expecting value: line 1 column 1 (char 0)'), <traceback object at 0x7f219e01eb88>)\n",
      "<_io.TextIOWrapper name='files/3a95a6d1-2b23-3da4-be44-d964ac0be248.json' mode='r' encoding='UTF-8'>\n",
      "(<class 'json.decoder.JSONDecodeError'>, JSONDecodeError('Expecting value: line 1 column 1 (char 0)'), <traceback object at 0x7f219e01eb08>)\n",
      "<_io.TextIOWrapper name='files/c444949e-efe8-456b-beba-6850fc125fcc.json' mode='r' encoding='UTF-8'>\n",
      "(<class 'json.decoder.JSONDecodeError'>, JSONDecodeError('Expecting value: line 1 column 1 (char 0)'), <traceback object at 0x7f219e01eb88>)\n",
      "<_io.TextIOWrapper name='files/219d7e1d-64fa-3e0d-bb07-d184b59d742f.json' mode='r' encoding='UTF-8'>\n",
      "(<class 'json.decoder.JSONDecodeError'>, JSONDecodeError('Expecting value: line 1 column 1 (char 0)'), <traceback object at 0x7f219e01eb08>)\n",
      "<_io.TextIOWrapper name='files/1f69a658-acd8-32ca-9d6d-5c9cfcd50e62.json' mode='r' encoding='UTF-8'>\n",
      "(<class 'json.decoder.JSONDecodeError'>, JSONDecodeError('Expecting value: line 1 column 1 (char 0)'), <traceback object at 0x7f219e01eb88>)\n",
      "<_io.TextIOWrapper name='files/0a6559d6-c7f0-3dcb-9a98-bc24546dc0c2.json' mode='r' encoding='UTF-8'>\n",
      "(<class 'json.decoder.JSONDecodeError'>, JSONDecodeError('Expecting value: line 1 column 1 (char 0)'), <traceback object at 0x7f219e01eb08>)\n",
      "<_io.TextIOWrapper name='files/d63492bf-f158-4cd1-9ca9-ece07b258ce2.json' mode='r' encoding='UTF-8'>\n",
      "(<class 'json.decoder.JSONDecodeError'>, JSONDecodeError('Expecting value: line 1 column 1 (char 0)'), <traceback object at 0x7f219e01eb88>)\n",
      "<_io.TextIOWrapper name='files/504838a1-bceb-3db5-94ff-2a690dc78a99.json' mode='r' encoding='UTF-8'>\n",
      "(<class 'json.decoder.JSONDecodeError'>, JSONDecodeError('Expecting value: line 1 column 1 (char 0)'), <traceback object at 0x7f219e01eb08>)\n",
      "<_io.TextIOWrapper name='files/b62b3dae-e363-40bc-9050-488ac0d4d50a.json' mode='r' encoding='UTF-8'>\n",
      "(<class 'json.decoder.JSONDecodeError'>, JSONDecodeError('Expecting value: line 1 column 1 (char 0)'), <traceback object at 0x7f219e01eb88>)\n",
      "<_io.TextIOWrapper name='files/c9dc0c47-a461-3cf1-90c6-9dee753ef606.json' mode='r' encoding='UTF-8'>\n",
      "(<class 'json.decoder.JSONDecodeError'>, JSONDecodeError('Expecting value: line 1 column 1 (char 0)'), <traceback object at 0x7f219e01eb08>)\n",
      "<_io.TextIOWrapper name='files/374c16a5-ad7c-3f5a-833e-ef7242dcec26.json' mode='r' encoding='UTF-8'>\n",
      "(<class 'json.decoder.JSONDecodeError'>, JSONDecodeError('Expecting value: line 1 column 1 (char 0)'), <traceback object at 0x7f219dced3c8>)\n",
      "<_io.TextIOWrapper name='files/3e6a43fe-30d4-317c-9981-61017b3e6833.json' mode='r' encoding='UTF-8'>\n",
      "(<class 'json.decoder.JSONDecodeError'>, JSONDecodeError('Expecting value: line 1 column 1 (char 0)'), <traceback object at 0x7f219dced488>)\n",
      "<_io.TextIOWrapper name='files/682da87a-33ab-3fc0-83b1-5d33564b8ff3.json' mode='r' encoding='UTF-8'>\n",
      "(<class 'json.decoder.JSONDecodeError'>, JSONDecodeError('Expecting value: line 1 column 1 (char 0)'), <traceback object at 0x7f219dced388>)\n",
      "<_io.TextIOWrapper name='files/fe4c9c02-8a28-3b46-b1e5-05f08f8b3750.json' mode='r' encoding='UTF-8'>\n",
      "(<class 'json.decoder.JSONDecodeError'>, JSONDecodeError('Expecting value: line 1 column 1 (char 0)'), <traceback object at 0x7f219dced488>)\n",
      "<_io.TextIOWrapper name='files/35d43d81-c9cb-34f0-acf0-536e7a2ebec4.json' mode='r' encoding='UTF-8'>\n",
      "(<class 'json.decoder.JSONDecodeError'>, JSONDecodeError('Expecting value: line 1 column 1 (char 0)'), <traceback object at 0x7f219dced388>)\n",
      "<_io.TextIOWrapper name='files/31695d90-7318-487b-81e4-7d475622e486.json' mode='r' encoding='UTF-8'>\n",
      "(<class 'json.decoder.JSONDecodeError'>, JSONDecodeError('Expecting value: line 1 column 1 (char 0)'), <traceback object at 0x7f21852c9b48>)\n",
      "<_io.TextIOWrapper name='files/0a4c6dd9-c054-493a-adcf-c996473cd72e.json' mode='r' encoding='UTF-8'>\n",
      "(<class 'json.decoder.JSONDecodeError'>, JSONDecodeError('Expecting value: line 1 column 1 (char 0)'), <traceback object at 0x7f21852c9f88>)\n",
      "<_io.TextIOWrapper name='files/bd093f1f-7ed8-4524-a17f-276c9c7d1439.json' mode='r' encoding='UTF-8'>\n",
      "(<class 'json.decoder.JSONDecodeError'>, JSONDecodeError('Expecting value: line 1 column 1 (char 0)'), <traceback object at 0x7f21852c9fc8>)\n",
      "<_io.TextIOWrapper name='files/0a4b386a-7547-4bb2-9e9b-bf0c20a3c014.json' mode='r' encoding='UTF-8'>\n",
      "(<class 'json.decoder.JSONDecodeError'>, JSONDecodeError('Expecting value: line 1 column 1 (char 0)'), <traceback object at 0x7f21852c9f08>)\n",
      "<_io.TextIOWrapper name='files/88483da8-0cbd-4a13-9dc9-240831d13de7.json' mode='r' encoding='UTF-8'>\n",
      "(<class 'json.decoder.JSONDecodeError'>, JSONDecodeError('Expecting value: line 1 column 1 (char 0)'), <traceback object at 0x7f21852c9f88>)\n",
      "<_io.TextIOWrapper name='files/c5382ce3-b1ef-430d-a17e-95865fc8a060.json' mode='r' encoding='UTF-8'>\n",
      "(<class 'json.decoder.JSONDecodeError'>, JSONDecodeError('Expecting value: line 1 column 1 (char 0)'), <traceback object at 0x7f21852c9f08>)\n",
      "<_io.TextIOWrapper name='files/5dfb2a36-016c-44da-af4c-e5f0793b7b4f.json' mode='r' encoding='UTF-8'>\n",
      "(<class 'json.decoder.JSONDecodeError'>, JSONDecodeError('Expecting value: line 1 column 1 (char 0)'), <traceback object at 0x7f21852c9f88>)\n",
      "<_io.TextIOWrapper name='files/6a704fc0-f2c4-47fa-96a8-708a08c54063.json' mode='r' encoding='UTF-8'>\n",
      "(<class 'json.decoder.JSONDecodeError'>, JSONDecodeError('Expecting value: line 1 column 1 (char 0)'), <traceback object at 0x7f21852c9f08>)\n",
      "<_io.TextIOWrapper name='files/ed94c2ba-2f15-40ba-8863-55acf2bf5032.json' mode='r' encoding='UTF-8'>\n",
      "(<class 'json.decoder.JSONDecodeError'>, JSONDecodeError('Expecting value: line 1 column 1 (char 0)'), <traceback object at 0x7f21852c9f88>)\n",
      "<_io.TextIOWrapper name='files/accbe1ad-c1b8-4e80-8387-07ecfcc874df.json' mode='r' encoding='UTF-8'>\n",
      "(<class 'json.decoder.JSONDecodeError'>, JSONDecodeError('Expecting value: line 1 column 1 (char 0)'), <traceback object at 0x7f21852c9f08>)\n",
      "<_io.TextIOWrapper name='files/4bcd9ca8-a11e-4c66-958e-caba878a6790.json' mode='r' encoding='UTF-8'>\n",
      "(<class 'json.decoder.JSONDecodeError'>, JSONDecodeError('Expecting value: line 1 column 1 (char 0)'), <traceback object at 0x7f21852c9f88>)\n",
      "<_io.TextIOWrapper name='files/b5003a98-c75d-4c0a-a265-032ef8f4a29d.json' mode='r' encoding='UTF-8'>\n",
      "(<class 'json.decoder.JSONDecodeError'>, JSONDecodeError('Expecting value: line 1 column 1 (char 0)'), <traceback object at 0x7f21852c9f08>)\n",
      "<_io.TextIOWrapper name='files/6cf04716-3251-430f-9b2e-b37134b615b4.json' mode='r' encoding='UTF-8'>\n",
      "(<class 'json.decoder.JSONDecodeError'>, JSONDecodeError('Expecting value: line 1 column 1 (char 0)'), <traceback object at 0x7f21852c9f88>)\n",
      "<_io.TextIOWrapper name='files/23a4c750-6f16-41a9-ace7-7aef6c577c81.json' mode='r' encoding='UTF-8'>\n",
      "(<class 'json.decoder.JSONDecodeError'>, JSONDecodeError('Expecting value: line 1 column 1 (char 0)'), <traceback object at 0x7f21852c9f08>)\n",
      "<_io.TextIOWrapper name='files/9af62902-310d-4e01-8c2a-58eb89360930.json' mode='r' encoding='UTF-8'>\n",
      "(<class 'json.decoder.JSONDecodeError'>, JSONDecodeError('Expecting value: line 1 column 1 (char 0)'), <traceback object at 0x7f21852c9f88>)\n",
      "<_io.TextIOWrapper name='files/4b05347b-4d66-4981-a79a-bb6a3c1fd0d5.json' mode='r' encoding='UTF-8'>\n",
      "(<class 'json.decoder.JSONDecodeError'>, JSONDecodeError('Expecting value: line 1 column 1 (char 0)'), <traceback object at 0x7f21852c9f08>)\n",
      "<_io.TextIOWrapper name='files/b1e584ec-fcd0-49fc-818c-11bbdf5fb439.json' mode='r' encoding='UTF-8'>\n",
      "(<class 'json.decoder.JSONDecodeError'>, JSONDecodeError('Expecting value: line 1 column 1 (char 0)'), <traceback object at 0x7f21852c9f88>)\n",
      "<_io.TextIOWrapper name='files/025effe4-4983-42fb-8fd1-cdf74a34e1c0.json' mode='r' encoding='UTF-8'>\n",
      "(<class 'json.decoder.JSONDecodeError'>, JSONDecodeError('Expecting value: line 1 column 1 (char 0)'), <traceback object at 0x7f21852c9f08>)\n",
      "<_io.TextIOWrapper name='files/27b86f3e-5c98-4208-8d3d-35133f6f5359.json' mode='r' encoding='UTF-8'>\n",
      "(<class 'json.decoder.JSONDecodeError'>, JSONDecodeError('Expecting value: line 1 column 1 (char 0)'), <traceback object at 0x7f21852c9f88>)\n",
      "<_io.TextIOWrapper name='files/a1800674-186c-3d29-9da4-7ea0bb44f1ed.json' mode='r' encoding='UTF-8'>\n",
      "(<class 'json.decoder.JSONDecodeError'>, JSONDecodeError('Expecting value: line 1 column 1 (char 0)'), <traceback object at 0x7f21852c9f08>)\n",
      "<_io.TextIOWrapper name='files/fb8f83fb-6f06-4dc2-86cc-86c89b5ebc48.json' mode='r' encoding='UTF-8'>\n",
      "(<class 'json.decoder.JSONDecodeError'>, JSONDecodeError('Expecting value: line 1 column 1 (char 0)'), <traceback object at 0x7f21852c9f88>)\n",
      "<_io.TextIOWrapper name='files/015c574b-5fb5-4f6b-9e89-8c40ba62516b.json' mode='r' encoding='UTF-8'>\n",
      "(<class 'json.decoder.JSONDecodeError'>, JSONDecodeError('Expecting value: line 1 column 1 (char 0)'), <traceback object at 0x7f21852c9f08>)\n",
      "<_io.TextIOWrapper name='files/e263f5e7-bcf8-4d31-9405-4060a3df5348.json' mode='r' encoding='UTF-8'>\n",
      "(<class 'json.decoder.JSONDecodeError'>, JSONDecodeError('Expecting value: line 1 column 1 (char 0)'), <traceback object at 0x7f21852c9f88>)\n",
      "<_io.TextIOWrapper name='files/f651a5cc-a7c5-4d28-9959-f6d4ae90ff69.json' mode='r' encoding='UTF-8'>\n",
      "(<class 'json.decoder.JSONDecodeError'>, JSONDecodeError('Expecting value: line 1 column 1 (char 0)'), <traceback object at 0x7f21852c9f08>)\n",
      "<_io.TextIOWrapper name='files/7c707949-211c-32c6-a023-324a71778021.json' mode='r' encoding='UTF-8'>\n",
      "(<class 'json.decoder.JSONDecodeError'>, JSONDecodeError('Expecting value: line 1 column 1 (char 0)'), <traceback object at 0x7f21852c9f88>)\n",
      "<_io.TextIOWrapper name='files/1da238bc-37ae-4d33-90e4-25fcb77d7670.json' mode='r' encoding='UTF-8'>\n",
      "(<class 'json.decoder.JSONDecodeError'>, JSONDecodeError('Expecting value: line 1 column 1 (char 0)'), <traceback object at 0x7f21852c9f08>)\n",
      "<_io.TextIOWrapper name='files/ff5d89ad-72bf-4eff-8d95-c9dd0df43d56.json' mode='r' encoding='UTF-8'>\n",
      "(<class 'json.decoder.JSONDecodeError'>, JSONDecodeError('Expecting value: line 1 column 1 (char 0)'), <traceback object at 0x7f21852c9f88>)\n",
      "<_io.TextIOWrapper name='files/c0f04767-8df9-42b4-9d8d-691e736d0a1e.json' mode='r' encoding='UTF-8'>\n",
      "(<class 'json.decoder.JSONDecodeError'>, JSONDecodeError('Expecting value: line 1 column 1 (char 0)'), <traceback object at 0x7f21852c9f08>)\n",
      "<_io.TextIOWrapper name='files/2175e1db-370e-3e89-9ba2-6d7844f82008.json' mode='r' encoding='UTF-8'>\n",
      "(<class 'json.decoder.JSONDecodeError'>, JSONDecodeError('Expecting value: line 1 column 1 (char 0)'), <traceback object at 0x7f21852c9f88>)\n",
      "<_io.TextIOWrapper name='files/8f2a0b25-2164-4350-9414-e57ef5b51208.json' mode='r' encoding='UTF-8'>\n",
      "(<class 'json.decoder.JSONDecodeError'>, JSONDecodeError('Expecting value: line 1 column 1 (char 0)'), <traceback object at 0x7f21852c9f08>)\n",
      "<_io.TextIOWrapper name='files/be59ff39-48d1-4b08-aa39-e34ae04ba3dc.json' mode='r' encoding='UTF-8'>\n",
      "(<class 'json.decoder.JSONDecodeError'>, JSONDecodeError('Expecting value: line 1 column 1 (char 0)'), <traceback object at 0x7f21852c9f88>)\n",
      "<_io.TextIOWrapper name='files/45d84bef-3df8-4f1f-9f0d-b812ef7acc9f.json' mode='r' encoding='UTF-8'>\n",
      "(<class 'json.decoder.JSONDecodeError'>, JSONDecodeError('Expecting value: line 1 column 1 (char 0)'), <traceback object at 0x7f21852c9f08>)\n",
      "<_io.TextIOWrapper name='files/382f081e-4a78-4ae8-93ce-1470af22e81c.json' mode='r' encoding='UTF-8'>\n",
      "(<class 'json.decoder.JSONDecodeError'>, JSONDecodeError('Expecting value: line 1 column 1 (char 0)'), <traceback object at 0x7f21852c9f88>)\n",
      "<_io.TextIOWrapper name='files/728af619-8f63-462b-a73b-9bac70dd1304.json' mode='r' encoding='UTF-8'>\n",
      "(<class 'json.decoder.JSONDecodeError'>, JSONDecodeError('Expecting value: line 1 column 1 (char 0)'), <traceback object at 0x7f21852c9f08>)\n",
      "<_io.TextIOWrapper name='files/a86346e6-d809-49cd-a3b6-1bde2674e5c1.json' mode='r' encoding='UTF-8'>\n",
      "(<class 'json.decoder.JSONDecodeError'>, JSONDecodeError('Expecting value: line 1 column 1 (char 0)'), <traceback object at 0x7f21852c9f88>)\n",
      "<_io.TextIOWrapper name='files/00a603aa-db7d-4c44-92a6-5984eb4eebd6.json' mode='r' encoding='UTF-8'>\n",
      "(<class 'json.decoder.JSONDecodeError'>, JSONDecodeError('Expecting value: line 1 column 1 (char 0)'), <traceback object at 0x7f21852c9f08>)\n",
      "<_io.TextIOWrapper name='files/dffe7c80-cf53-420b-b0b5-48f0ee6466a6.json' mode='r' encoding='UTF-8'>\n",
      "(<class 'json.decoder.JSONDecodeError'>, JSONDecodeError('Expecting value: line 1 column 1 (char 0)'), <traceback object at 0x7f21852c9f88>)\n",
      "<_io.TextIOWrapper name='files/25711fe0-25aa-42b7-b5bc-dd594092630f.json' mode='r' encoding='UTF-8'>\n",
      "(<class 'json.decoder.JSONDecodeError'>, JSONDecodeError('Expecting value: line 1 column 1 (char 0)'), <traceback object at 0x7f21852c9f08>)\n",
      "<_io.TextIOWrapper name='files/7b81cba6-4514-442e-b935-f66c71a53fe3.json' mode='r' encoding='UTF-8'>\n",
      "(<class 'json.decoder.JSONDecodeError'>, JSONDecodeError('Expecting value: line 1 column 1 (char 0)'), <traceback object at 0x7f21852c9f88>)\n",
      "<_io.TextIOWrapper name='files/60596b99-6296-4c17-a454-12d0f1c5d211.json' mode='r' encoding='UTF-8'>\n",
      "(<class 'json.decoder.JSONDecodeError'>, JSONDecodeError('Expecting value: line 1 column 1 (char 0)'), <traceback object at 0x7f21852c9f08>)\n",
      "<_io.TextIOWrapper name='files/7d1662ae-5de7-4c9e-b734-2930c35f11cb.json' mode='r' encoding='UTF-8'>\n",
      "(<class 'json.decoder.JSONDecodeError'>, JSONDecodeError('Expecting value: line 1 column 1 (char 0)'), <traceback object at 0x7f21852c9f88>)\n",
      "<_io.TextIOWrapper name='files/9faae80f-bbee-4dc7-8507-d9bc66ec458f.json' mode='r' encoding='UTF-8'>\n",
      "(<class 'json.decoder.JSONDecodeError'>, JSONDecodeError('Expecting value: line 1 column 1 (char 0)'), <traceback object at 0x7f21852c9f08>)\n",
      "<_io.TextIOWrapper name='files/a9599bb8-89ed-498f-ad08-7548d13508a3.json' mode='r' encoding='UTF-8'>\n",
      "(<class 'json.decoder.JSONDecodeError'>, JSONDecodeError('Expecting value: line 1 column 1 (char 0)'), <traceback object at 0x7f21852c9f88>)\n",
      "<_io.TextIOWrapper name='files/29299c09-c929-4727-97e1-a67204347d6e.json' mode='r' encoding='UTF-8'>\n",
      "(<class 'json.decoder.JSONDecodeError'>, JSONDecodeError('Expecting value: line 1 column 1 (char 0)'), <traceback object at 0x7f21852c9f08>)\n",
      "<_io.TextIOWrapper name='files/52efb1b6-cc2f-3ecf-8daf-7ded7f209958.json' mode='r' encoding='UTF-8'>\n",
      "(<class 'json.decoder.JSONDecodeError'>, JSONDecodeError('Expecting value: line 1 column 1 (char 0)'), <traceback object at 0x7f21852c9f88>)\n",
      "<_io.TextIOWrapper name='files/c847b08e-83e9-43fe-9f19-5ef43c93a50d.json' mode='r' encoding='UTF-8'>\n",
      "(<class 'json.decoder.JSONDecodeError'>, JSONDecodeError('Expecting value: line 1 column 1 (char 0)'), <traceback object at 0x7f21852c9f08>)\n",
      "<_io.TextIOWrapper name='files/3241c240-fd90-4c26-b5e5-e48dd36b9769.json' mode='r' encoding='UTF-8'>\n",
      "(<class 'json.decoder.JSONDecodeError'>, JSONDecodeError('Expecting value: line 1 column 1 (char 0)'), <traceback object at 0x7f21852c9f88>)\n",
      "<_io.TextIOWrapper name='files/83f6b3e8-e17c-4dd8-b6e7-ab725a78ec1d.json' mode='r' encoding='UTF-8'>\n",
      "(<class 'json.decoder.JSONDecodeError'>, JSONDecodeError('Expecting value: line 1 column 1 (char 0)'), <traceback object at 0x7f21852c9f08>)\n",
      "<_io.TextIOWrapper name='files/c9450886-7518-4840-9b39-ecd511578888.json' mode='r' encoding='UTF-8'>\n",
      "(<class 'json.decoder.JSONDecodeError'>, JSONDecodeError('Expecting value: line 1 column 1 (char 0)'), <traceback object at 0x7f21852c9f88>)\n",
      "<_io.TextIOWrapper name='files/1ff77ddc-64c0-4cfa-9957-13be20fc900c.json' mode='r' encoding='UTF-8'>\n",
      "(<class 'json.decoder.JSONDecodeError'>, JSONDecodeError('Expecting value: line 1 column 1 (char 0)'), <traceback object at 0x7f21852c9f08>)\n",
      "<_io.TextIOWrapper name='files/47cd7360-33e8-416c-a598-1bd338796758.json' mode='r' encoding='UTF-8'>\n",
      "(<class 'json.decoder.JSONDecodeError'>, JSONDecodeError('Expecting value: line 1 column 1 (char 0)'), <traceback object at 0x7f21852c9f88>)\n",
      "<_io.TextIOWrapper name='files/d9cd314d-3aa8-46bf-910a-26b5f9946b08.json' mode='r' encoding='UTF-8'>\n",
      "(<class 'json.decoder.JSONDecodeError'>, JSONDecodeError('Expecting value: line 1 column 1 (char 0)'), <traceback object at 0x7f21852c9f08>)\n",
      "<_io.TextIOWrapper name='files/7460c0d3-29f9-4bc1-910f-b4cab0e98db1.json' mode='r' encoding='UTF-8'>\n",
      "(<class 'json.decoder.JSONDecodeError'>, JSONDecodeError('Expecting value: line 1 column 1 (char 0)'), <traceback object at 0x7f21852c9f88>)\n",
      "<_io.TextIOWrapper name='files/a9b767c3-f8bf-4fd5-92df-9032fd29a3dd.json' mode='r' encoding='UTF-8'>\n",
      "(<class 'json.decoder.JSONDecodeError'>, JSONDecodeError('Expecting value: line 1 column 1 (char 0)'), <traceback object at 0x7f21852c9f08>)\n",
      "<_io.TextIOWrapper name='files/7fbae1d0-1667-4c3e-92e0-8ba7fb33eedc.json' mode='r' encoding='UTF-8'>\n",
      "(<class 'json.decoder.JSONDecodeError'>, JSONDecodeError('Expecting value: line 1 column 1 (char 0)'), <traceback object at 0x7f21852c9f88>)\n",
      "<_io.TextIOWrapper name='files/bff7f368-bf83-4de4-94f8-c1bf39a9beb0.json' mode='r' encoding='UTF-8'>\n",
      "(<class 'json.decoder.JSONDecodeError'>, JSONDecodeError('Expecting value: line 1 column 1 (char 0)'), <traceback object at 0x7f21852c9f08>)\n",
      "<_io.TextIOWrapper name='files/6f2cbd97-99d8-4ad5-aad6-0d00e0e42686.json' mode='r' encoding='UTF-8'>\n",
      "(<class 'json.decoder.JSONDecodeError'>, JSONDecodeError('Expecting value: line 1 column 1 (char 0)'), <traceback object at 0x7f21852c9f88>)\n",
      "<_io.TextIOWrapper name='files/f0ca30f7-6cce-4939-a3f0-d0ab6bcc6819.json' mode='r' encoding='UTF-8'>\n",
      "(<class 'json.decoder.JSONDecodeError'>, JSONDecodeError('Expecting value: line 1 column 1 (char 0)'), <traceback object at 0x7f21852c9f08>)\n",
      "<_io.TextIOWrapper name='files/4f7ae1af-cb50-474f-ae67-56e9f2405bf9.json' mode='r' encoding='UTF-8'>\n",
      "(<class 'json.decoder.JSONDecodeError'>, JSONDecodeError('Expecting value: line 1 column 1 (char 0)'), <traceback object at 0x7f21852c9f88>)\n",
      "<_io.TextIOWrapper name='files/2ea6c1f1-35e3-4eee-aab6-7765b799e134.json' mode='r' encoding='UTF-8'>\n",
      "(<class 'json.decoder.JSONDecodeError'>, JSONDecodeError('Expecting value: line 1 column 1 (char 0)'), <traceback object at 0x7f21852c9f08>)\n"
     ]
    }
   ],
   "source": [
    "# Cria o objeto work [:10001]\n",
    "for file in files[:200001]:\n",
    "    with open('files/'+file, 'r') as f:\n",
    "        try:\n",
    "            tmp_json = json.load(f)\n",
    "            if tmp_json and tmp_json.get('relations') != None:          \n",
    "#             print(tmp_json)\n",
    "                works.append(tmp_json)\n",
    "        except:\n",
    "            print(repr(f))\n",
    "            print(sys.exc_info())"
   ]
  },
  {
   "cell_type": "code",
   "execution_count": 4,
   "metadata": {
    "collapsed": true
   },
   "outputs": [],
   "source": [
    "# for work in works:    \n",
    "#     if not work.get('id') == None:        \n",
    "        \n",
    "#         color = random.choice(colors)    \n",
    "#         cprint((work.get('id'),work.get('title')), color=color)\n",
    "# #         cprint( color)\n",
    "            \n",
    "#         for titular in work['relations']:\n",
    "#             if not titular.get('type') == 'performance':\n",
    "#                 cprint((titular['artist']['name'], \"==>\", titular['type']), color)         \n",
    "                "
   ]
  },
  {
   "cell_type": "code",
   "execution_count": 5,
   "metadata": {},
   "outputs": [],
   "source": [
    "# Retonar todos os compositores de uma obra\n",
    "# Refazer para fazer a busca pelo ID da OBRA.\n",
    "def get_list_titular(work_title):\n",
    "    list_tit = []\n",
    "    \n",
    "    for work in works:    \n",
    "        if work.get('title') == work_title:\n",
    "             for titular in work['relations']:\n",
    "                if not titular.get('type') == 'performance':\n",
    "                    list_tit.append(titular['artist']['name'])\n",
    "    return list(set(list_tit))\n",
    "    "
   ]
  },
  {
   "cell_type": "code",
   "execution_count": 6,
   "metadata": {},
   "outputs": [
    {
     "name": "stdout",
     "output_type": "stream",
     "text": [
      "['Tom Morello', 'Zack de la Rocha', 'Brad Wilk', 'Tim Commerford']\n",
      "['Διονύσης Τσακνής']\n",
      "['Big Little Dipper Dipper']\n"
     ]
    }
   ],
   "source": [
    "print(get_list_titular('Bulls on Parade')) \n",
    "print(get_list_titular('Γυρίζω τις πλάτες μου στο μέλλον'))\n",
    "print(get_list_titular('Block Party'))"
   ]
  },
  {
   "cell_type": "code",
   "execution_count": 7,
   "metadata": {},
   "outputs": [
    {
     "name": "stdout",
     "output_type": "stream",
     "text": [
      "{'target-type': 'recording', 'ended': False, 'attribute-ids': {}, 'source-credit': '', 'target-credit': '', 'type': 'performance', 'attribute-values': {}, 'end': None, 'recording': {'disambiguation': '', 'video': False, 'length': 190934, 'title': 'Que tú me culpes (aires de Mirabrás)', 'id': '8f639981-5ea2-4368-b8f4-65f9252e4146'}, 'direction': 'backward', 'begin': None, 'attributes': [], 'type-id': 'a3005666-a872-32c3-ad06-98af558e99b0'}\n",
      "{'type': 'writer', 'target-credit': '', 'source-credit': '', 'attribute-ids': {}, 'ended': False, 'target-type': 'artist', 'type-id': 'a255bca1-b157-4518-9108-7b147dc3fc68', 'attributes': [], 'artist': {'name': '[traditional]', 'id': '9be7f096-97ec-4615-8957-8d40b5dcbc41', 'disambiguation': 'Special Purpose Artist', 'sort-name': '[traditional]'}, 'direction': 'backward', 'begin': None, 'end': None, 'attribute-values': {}}\n"
     ]
    }
   ],
   "source": [
    "for i in tmp_json['relations']:\n",
    "    print(i)"
   ]
  },
  {
   "cell_type": "code",
   "execution_count": 8,
   "metadata": {
    "scrolled": true
   },
   "outputs": [],
   "source": [
    "# Retorna uma lista com todas obras em que o artista é compositor\n",
    "# Tenho que refazer e fazer a busca pelo id do artista\n",
    "def get_all_work_by_artist(artist):\n",
    "    tmp_works = []\n",
    "    \n",
    "    for work in works:\n",
    "        for art in work['relations']:            \n",
    "            if not art.get('type') == 'performance' and art['artist']['name'] == artist:\n",
    "                tmp_works.append(work['title'])\n",
    "    return list(set(tmp_works))\n",
    "    "
   ]
  },
  {
   "cell_type": "code",
   "execution_count": 9,
   "metadata": {
    "scrolled": true
   },
   "outputs": [
    {
     "data": {
      "text/plain": [
       "['Pictures of You',\n",
       " 'Want',\n",
       " 'Open',\n",
       " 'Primary',\n",
       " 'Six Different Ways',\n",
       " 'Demise',\n",
       " 'Down Under',\n",
       " 'Snakepit',\n",
       " 'Just One Kiss',\n",
       " 'Get Down With Me',\n",
       " 'Like Cockatoos',\n",
       " 'Heroin Face',\n",
       " 'A Thousand Hours',\n",
       " 'Closedown',\n",
       " 'Snowflakes (Cured by Temple of Jay mix)',\n",
       " 'Doing the Unstuck',\n",
       " 'Just Like Heaven',\n",
       " 'Break',\n",
       " 'Object',\n",
       " 'A Night Like This',\n",
       " 'Hey You!!!',\n",
       " 'In Between Days',\n",
       " 'The Perfect Girl',\n",
       " 'Lullaby',\n",
       " 'All I Want',\n",
       " 'The Funeral Party',\n",
       " 'So What',\n",
       " 'Cut',\n",
       " 'Unbreakable',\n",
       " '2 Late',\n",
       " 'Never Enough',\n",
       " '39',\n",
       " 'One Woman Too Late',\n",
       " 'Plastic Passion',\n",
       " 'A Reflection',\n",
       " '10:15 Saturday Night',\n",
       " 'There’s a Planet in My Kitchen',\n",
       " 'Icing Sugar',\n",
       " 'Prayers for Rain',\n",
       " 'Torture',\n",
       " 'Close to Me',\n",
       " 'A Letter to Elise',\n",
       " 'All Cats Are Grey',\n",
       " 'The Same Deep Water as You',\n",
       " 'One More Time',\n",
       " 'The Blood',\n",
       " 'Shiver and Shake',\n",
       " 'Piggy in the Mirror',\n",
       " 'Meathook',\n",
       " 'The Hungry Ghost',\n",
       " 'End',\n",
       " 'Temptation',\n",
       " 'A Chain of Flowers',\n",
       " 'Strange Attraction',\n",
       " 'Wrong Number',\n",
       " 'From the Edge of the Deep Green Sea',\n",
       " 'Trust',\n",
       " 'Last Dance',\n",
       " 'Killing an Arab']"
      ]
     },
     "execution_count": 9,
     "metadata": {},
     "output_type": "execute_result"
    }
   ],
   "source": [
    "# Robert Smith\n",
    "# t = get_all_work_by_artist('Tom Morello')\n",
    "# t = get_all_work_by_artist('Zack de la Rocha')\n",
    "t = get_all_work_by_artist('Robert Smith')\n",
    "\n",
    "t"
   ]
  },
  {
   "cell_type": "code",
   "execution_count": 10,
   "metadata": {},
   "outputs": [
    {
     "data": {
      "text/plain": [
       "<networkx.classes.graph.Graph at 0x7f217b368ba8>"
      ]
     },
     "execution_count": 10,
     "metadata": {},
     "output_type": "execute_result"
    }
   ],
   "source": [
    "graph = nx.Graph()\n",
    "graph.add_nodes_from(works[0]['title'])\n",
    "\n",
    "graph\n"
   ]
  },
  {
   "cell_type": "code",
   "execution_count": 11,
   "metadata": {},
   "outputs": [
    {
     "name": "stdout",
     "output_type": "stream",
     "text": [
      "********** Spanish Caravan **********\n",
      "['Ray Manzarek', 'Jim Morrison', 'Robby Krieger', 'John Densmore']\n",
      "********** Feel the Street **********\n",
      "[]\n",
      "********** 1 John 4:16 **********\n",
      "['John Darnielle']\n",
      "********** Goddess (of the Sad Man) **********\n",
      "['Amorphis', 'Pasi Koskinen']\n",
      "********** 來生緣 **********\n",
      "['胡偉立', '劉德華']\n",
      "********** Still Wandering **********\n",
      "['Sieudiver']\n",
      "********** The Night Is Over **********\n",
      "['Amorphis', 'Pasi Koskinen']\n",
      "********** I Had a Dream **********\n",
      "['Joey Carbone', 'John Sebastian', 'Dennis Belfield']\n",
      "********** Fareweel Regality **********\n",
      "['Terry Conway']\n",
      "********** Fool’s Errand **********\n",
      "['Robin Pecknold']\n",
      "********** Carve My Name Into Your Chest **********\n",
      "['Izabelle Steele', 'Pudjun', 'Danyell DeVille', 'Patty Reece']\n",
      "********** Feel the Street **********\n",
      "[]\n",
      "********** GOOD LUCK MY WAY **********\n",
      "['TETSUYA', 'HYDE']\n",
      "********** Bulls on Parade **********\n",
      "['Tom Morello', 'Zack de la Rocha', 'Brad Wilk', 'Tim Commerford']\n",
      "********** Knock 'em Out **********\n",
      "['Lily Allen', 'Darren Lewis', 'Earl King', 'Iyiola Babalola']\n",
      "********** Honeysuckle **********\n",
      "['Stefano Musso']\n",
      "********** 1!2!3!4! ヨロシク! **********\n",
      "['ツキダタダシ', '秋元康']\n",
      "********** 18 **********\n",
      "['azu', 'Lucy', 'Moby']\n",
      "********** Burning in Hell **********\n",
      "['Mike Torrao', 'Jeff Becerra']\n",
      "********** The Narcotic Suite: 3 Kilos **********\n",
      "['Liam Howlett']\n",
      "********** Το σ' αγαπώ δεν το λέω σε κανένα (Το σ' αγαπώ το κρατάω για σένα) **********\n",
      "['Τάκης Μουσαφίρης']\n"
     ]
    }
   ],
   "source": [
    "graph = nx.MultiDiGraph()\n",
    "list_json=[]\n",
    "for file in files[:21]:\n",
    "    with open('files/'+file, 'r') as f:\n",
    "        tmp_json = json.load(f)\n",
    "        if not tmp_json.get('relations')  == None :            \n",
    "            \n",
    "            print('*'*10, tmp_json['title'], '*'*10)\n",
    "            graph.add_nodes_from(tmp_json['title'])            \n",
    "#             graph.add_edges_from(get_list_titular(tmp_json['title']))         \n",
    "\n",
    "#             tmp = [print(tuple(x)) for x in  get_list_titular(tmp_json['title'])]\n",
    "            print(get_list_titular(tmp_json['title']))\n",
    "#             print(tmp)"
   ]
  },
  {
   "cell_type": "code",
   "execution_count": 12,
   "metadata": {},
   "outputs": [
    {
     "name": "stdout",
     "output_type": "stream",
     "text": [
      "['John Densmore', 'Jim Morrison', 'Ray Manzarek', 'Robby Krieger']\n",
      "('John Densmore', 'Jim Morrison', 'Ray Manzarek', 'Robby Krieger')\n"
     ]
    }
   ],
   "source": [
    "l = ['John Densmore', 'Jim Morrison', 'Ray Manzarek', 'Robby Krieger']\n",
    "ll = []\n",
    "\n",
    "for i in l:    \n",
    "    ll.append((str(i)))   \n",
    "ll\n",
    "t = tuple(l)\n",
    "print(ll)\n",
    "print(t)\n"
   ]
  },
  {
   "cell_type": "code",
   "execution_count": 13,
   "metadata": {},
   "outputs": [],
   "source": [
    "# retornar uma lista com todos os artitas com quem o artistas compos \n",
    "def get_list_artist_by_artist(artist):\n",
    "    list_art = []\n",
    "    \n",
    "    all_works_of_art = get_all_work_by_artist(artist)    \n",
    "    \n",
    "    for work in all_works_of_art:    \n",
    "        for wk in works:\n",
    "#           sem tratamento de obras homônimas \n",
    "            if work == wk['title']:\n",
    "               for tit in get_list_titular(wk['title']):\n",
    "                list_art.append(tit)\n",
    "\n",
    "    return list(set(list_art))"
   ]
  },
  {
   "cell_type": "code",
   "execution_count": 15,
   "metadata": {},
   "outputs": [
    {
     "data": {
      "text/plain": [
       "['Lennaert Nijgh',\n",
       " 'Oscar Hammerstein II',\n",
       " 'Johan Ledoux',\n",
       " 'Astrid Nijgh',\n",
       " 'Ingo Hampf',\n",
       " 'Richard Rodgers',\n",
       " 'Tom Morello',\n",
       " 'Michael Boden',\n",
       " 'Guillaume Ledoux',\n",
       " 'David Sylvian',\n",
       " 'Colin Hay',\n",
       " 'Charlie Hilton',\n",
       " 'Jimmy Destri',\n",
       " '林保徳',\n",
       " 'Rob Hubbard',\n",
       " 'Werner Widmer',\n",
       " 'Henri',\n",
       " 'Zack de la Rocha',\n",
       " 'Tim Commerford',\n",
       " 'Jacob Portrait',\n",
       " 'Imogen Heap',\n",
       " 'Max Coppella',\n",
       " 'Mats Paulson',\n",
       " 'French Thompson',\n",
       " 'Brad Wilk']"
      ]
     },
     "execution_count": 15,
     "metadata": {},
     "output_type": "execute_result"
    }
   ],
   "source": [
    "# get_list_artist_by_artist('Robert Smith')\n",
    "get_list_artist_by_artist('Zack de la Rocha')"
   ]
  },
  {
   "cell_type": "code",
   "execution_count": null,
   "metadata": {},
   "outputs": [],
   "source": []
  },
  {
   "cell_type": "code",
   "execution_count": null,
   "metadata": {},
   "outputs": [],
   "source": []
  },
  {
   "cell_type": "code",
   "execution_count": null,
   "metadata": {},
   "outputs": [],
   "source": []
  }
 ],
 "metadata": {
  "kernelspec": {
   "display_name": "Python 3",
   "language": "python",
   "name": "python3"
  },
  "language_info": {
   "codemirror_mode": {
    "name": "ipython",
    "version": 3
   },
   "file_extension": ".py",
   "mimetype": "text/x-python",
   "name": "python",
   "nbconvert_exporter": "python",
   "pygments_lexer": "ipython3",
   "version": "3.7.2"
  }
 },
 "nbformat": 4,
 "nbformat_minor": 2
}
