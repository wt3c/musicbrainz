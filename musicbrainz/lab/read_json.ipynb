{
 "cells": [
  {
   "cell_type": "markdown",
   "metadata": {},
   "source": [
    "## Teste com arquivos json\n",
    "\n",
    "Usando o Tom Morello para testes\n",
    "\n",
    "gid 42a636a0-dbe4-4d0c-abe2-1590fad9531b"
   ]
  },
  {
   "cell_type": "code",
   "execution_count": 1,
   "metadata": {},
   "outputs": [],
   "source": [
    "import io\n",
    "import os\n",
    "import json"
   ]
  },
  {
   "cell_type": "code",
   "execution_count": 2,
   "metadata": {},
   "outputs": [],
   "source": [
    "# Iniciando testes com um unico titular \n",
    "file = 'files/d207629c-37c0-4337-b87c-af08b4dc168a.json'"
   ]
  },
  {
   "cell_type": "code",
   "execution_count": 3,
   "metadata": {},
   "outputs": [
    {
     "ename": "TypeError",
     "evalue": "string indices must be integers",
     "output_type": "error",
     "traceback": [
      "\u001b[0;31m---------------------------------------------------------------------------\u001b[0m",
      "\u001b[0;31mTypeError\u001b[0m                                 Traceback (most recent call last)",
      "\u001b[0;32m<ipython-input-3-e6cfbede7462>\u001b[0m in \u001b[0;36m<module>\u001b[0;34m\u001b[0m\n\u001b[1;32m      6\u001b[0m \u001b[0;34m\u001b[0m\u001b[0m\n\u001b[1;32m      7\u001b[0m     \u001b[0;32mfor\u001b[0m \u001b[0mi\u001b[0m \u001b[0;32min\u001b[0m \u001b[0mfs\u001b[0m\u001b[0;34m:\u001b[0m\u001b[0;34m\u001b[0m\u001b[0;34m\u001b[0m\u001b[0m\n\u001b[0;32m----> 8\u001b[0;31m         \u001b[0mtmp\u001b[0m \u001b[0;34m=\u001b[0m \u001b[0mre\u001b[0m\u001b[0;34m.\u001b[0m\u001b[0msub\u001b[0m\u001b[0;34m(\u001b[0m\u001b[0;34mr'\\(\\w+\\)|\\(\\w+, \\w+\\)'\u001b[0m \u001b[0;34m,\u001b[0m \u001b[0;34mr''\u001b[0m\u001b[0;34m,\u001b[0m \u001b[0mstr\u001b[0m\u001b[0;34m(\u001b[0m\u001b[0mi\u001b[0m\u001b[0;34m[\u001b[0m\u001b[0;34m'Writers'\u001b[0m\u001b[0;34m]\u001b[0m\u001b[0;34m)\u001b[0m\u001b[0;34m)\u001b[0m\u001b[0;34m\u001b[0m\u001b[0;34m\u001b[0m\u001b[0m\n\u001b[0m\u001b[1;32m      9\u001b[0m         \u001b[0mwriters\u001b[0m\u001b[0;34m.\u001b[0m\u001b[0mappend\u001b[0m\u001b[0;34m(\u001b[0m\u001b[0mtmp\u001b[0m\u001b[0;34m)\u001b[0m\u001b[0;34m\u001b[0m\u001b[0;34m\u001b[0m\u001b[0m\n\u001b[1;32m     10\u001b[0m \u001b[0;31m# writers\u001b[0m\u001b[0;34m\u001b[0m\u001b[0;34m\u001b[0m\u001b[0;34m\u001b[0m\u001b[0m\n",
      "\u001b[0;31mTypeError\u001b[0m: string indices must be integers"
     ]
    }
   ],
   "source": [
    "import re \n",
    "writers = []\n",
    "tmp = ''\n",
    "with open(file, 'r') as f:\n",
    "    fs = json.load(f)\n",
    "    \n",
    "    for i in fs:        \n",
    "        tmp = re.sub(r'\\(\\w+\\)|\\(\\w+, \\w+\\)' , r'', str(i['Writers']))\n",
    "        writers.append(tmp)\n",
    "# writers "
   ]
  },
  {
   "cell_type": "code",
   "execution_count": null,
   "metadata": {},
   "outputs": [],
   "source": [
    "wrs = []\n",
    "for w in writers:\n",
    "    for j in w.split('  '):\n",
    "        wrs.append(j.strip())\n",
    "\n",
    "# set(wrs)"
   ]
  },
  {
   "cell_type": "markdown",
   "metadata": {},
   "source": [
    "## Lendo todos os arquivos"
   ]
  },
  {
   "cell_type": "code",
   "execution_count": null,
   "metadata": {
    "scrolled": false
   },
   "outputs": [],
   "source": [
    "import re \n",
    "writers = []\n",
    "\n",
    "files = os.listdir('files')\n",
    "for file in files[:2]:\n",
    "    if file.endswith('.json'):\n",
    "        with open('files/'+file, 'r') as f:\n",
    "            works = json.load(f)\n",
    "            \n",
    "            for work in works:\n",
    "                print('************* '+work['Work']+' *************')\n",
    "                tmp = re.sub(r'\\(\\w+\\)|\\(\\w+, \\w+\\)' , r'', str(work['Writers']))\n",
    "                for tits in tmp.split('  '):\n",
    "                    print(tits.strip())    "
   ]
  },
  {
   "cell_type": "code",
   "execution_count": null,
   "metadata": {},
   "outputs": [],
   "source": [
    "import re\n",
    "from pprint import pprint\n",
    "writers = []\n",
    "\n",
    "def getlistwriters(writers):\n",
    "    wrs = str(writers)\n",
    "    list_writer = []\n",
    "    \n",
    "#     print(wrs)\n",
    "    \n",
    "    tmp = re.sub(r'\\(\\w+\\)|\\(\\w+, \\w+\\)' , r'', wrs)   \n",
    "    \n",
    "    for i in tmp.split('  '):\n",
    "        list_writer.append(tmp.strip())\n",
    "    \n",
    "    return list_writer\n",
    "\n",
    "\n",
    "files = os.listdir('files')\n",
    "for file in files:\n",
    "    if file.endswith('.json'):\n",
    "        with open('files/'+file, 'r') as f:\n",
    "            works = json.load(f)\n",
    "            \n",
    "            for i in works[:1]:\n",
    "#                 print(str(i['Writers'])\n",
    "                print(getlistwriters(i['Writers']))\n",
    "#                 if 'Bob Chilcott' in getlistwriters(i['Writers']):\n",
    "#                     pprint(i)\n",
    "            \n",
    "            "
   ]
  },
  {
   "cell_type": "code",
   "execution_count": null,
   "metadata": {},
   "outputs": [],
   "source": []
  },
  {
   "cell_type": "code",
   "execution_count": null,
   "metadata": {},
   "outputs": [],
   "source": []
  },
  {
   "cell_type": "code",
   "execution_count": null,
   "metadata": {},
   "outputs": [],
   "source": []
  },
  {
   "cell_type": "code",
   "execution_count": null,
   "metadata": {},
   "outputs": [],
   "source": []
  }
 ],
 "metadata": {
  "kernelspec": {
   "display_name": "Python 3",
   "language": "python",
   "name": "python3"
  },
  "language_info": {
   "codemirror_mode": {
    "name": "ipython",
    "version": 3
   },
   "file_extension": ".py",
   "mimetype": "text/x-python",
   "name": "python",
   "nbconvert_exporter": "python",
   "pygments_lexer": "ipython3",
   "version": "3.7.2"
  }
 },
 "nbformat": 4,
 "nbformat_minor": 2
}
